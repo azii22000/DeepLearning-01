{
  "nbformat": 4,
  "nbformat_minor": 0,
  "metadata": {
    "colab": {
      "provenance": [],
      "gpuType": "T4",
      "authorship_tag": "ABX9TyNGmbGse7qxIsWhvwic0SYu",
      "include_colab_link": true
    },
    "kernelspec": {
      "name": "python3",
      "display_name": "Python 3"
    },
    "language_info": {
      "name": "python"
    },
    "accelerator": "GPU"
  },
  "cells": [
    {
      "cell_type": "markdown",
      "metadata": {
        "id": "view-in-github",
        "colab_type": "text"
      },
      "source": [
        "<a href=\"https://colab.research.google.com/github/azii22000/DeepLearning-01/blob/main/ReduceLROnPlateau_Keras_Callback.ipynb\" target=\"_parent\"><img src=\"https://colab.research.google.com/assets/colab-badge.svg\" alt=\"Open In Colab\"/></a>"
      ]
    },
    {
      "cell_type": "code",
      "execution_count": 1,
      "metadata": {
        "colab": {
          "base_uri": "https://localhost:8080/"
        },
        "id": "YcJnKT3oOCje",
        "outputId": "8e4461d4-0614-4b01-aafb-30aa6a860fa6"
      },
      "outputs": [
        {
          "output_type": "stream",
          "name": "stdout",
          "text": [
            "Epoch 1/10\n",
            "25/25 [==============================] - 8s 15ms/step - loss: 0.6983 - accuracy: 0.4938 - val_loss: 0.6961 - val_accuracy: 0.5350 - lr: 0.0010\n",
            "Epoch 2/10\n",
            "25/25 [==============================] - 0s 4ms/step - loss: 0.6914 - accuracy: 0.5213 - val_loss: 0.6927 - val_accuracy: 0.5500 - lr: 0.0010\n",
            "Epoch 3/10\n",
            "25/25 [==============================] - 0s 5ms/step - loss: 0.6862 - accuracy: 0.5663 - val_loss: 0.6927 - val_accuracy: 0.5500 - lr: 0.0010\n",
            "Epoch 4/10\n",
            "25/25 [==============================] - 0s 5ms/step - loss: 0.6829 - accuracy: 0.5575 - val_loss: 0.6910 - val_accuracy: 0.5350 - lr: 0.0010\n",
            "Epoch 5/10\n",
            "25/25 [==============================] - 0s 5ms/step - loss: 0.6833 - accuracy: 0.5750 - val_loss: 0.6919 - val_accuracy: 0.5200 - lr: 0.0010\n",
            "Epoch 6/10\n",
            "25/25 [==============================] - 0s 5ms/step - loss: 0.6798 - accuracy: 0.5825 - val_loss: 0.6920 - val_accuracy: 0.5250 - lr: 2.0000e-04\n",
            "Epoch 7/10\n",
            "25/25 [==============================] - 0s 4ms/step - loss: 0.6791 - accuracy: 0.5975 - val_loss: 0.6919 - val_accuracy: 0.5000 - lr: 2.0000e-04\n",
            "Epoch 8/10\n",
            "25/25 [==============================] - 0s 5ms/step - loss: 0.6778 - accuracy: 0.5950 - val_loss: 0.6919 - val_accuracy: 0.4950 - lr: 2.0000e-04\n",
            "Epoch 9/10\n",
            "25/25 [==============================] - 0s 5ms/step - loss: 0.6773 - accuracy: 0.6025 - val_loss: 0.6920 - val_accuracy: 0.5000 - lr: 4.0000e-05\n",
            "Epoch 10/10\n",
            "25/25 [==============================] - 0s 5ms/step - loss: 0.6772 - accuracy: 0.6012 - val_loss: 0.6920 - val_accuracy: 0.5000 - lr: 4.0000e-05\n"
          ]
        },
        {
          "output_type": "execute_result",
          "data": {
            "text/plain": [
              "<keras.src.callbacks.History at 0x7bec2aad5870>"
            ]
          },
          "metadata": {},
          "execution_count": 1
        }
      ],
      "source": [
        "import tensorflow as tf\n",
        "from tensorflow.keras.models import Sequential\n",
        "from tensorflow.keras.layers import Dense\n",
        "from tensorflow.keras.callbacks import ReduceLROnPlateau\n",
        "\n",
        "# تعریف یک مدل ساده\n",
        "model = Sequential([\n",
        "    Dense(64, activation='relu', input_shape=(10,)),\n",
        "    Dense(64, activation='relu'),\n",
        "    Dense(1, activation='sigmoid')\n",
        "])\n",
        "\n",
        "# کامپایل مدل\n",
        "model.compile(optimizer='adam', loss='binary_crossentropy', metrics=['accuracy'])\n",
        "\n",
        "# دیتاست نمونه (با داده‌های واقعی خود جایگزین کنید)\n",
        "import numpy as np\n",
        "x_train = np.random.random((1000, 10))\n",
        "y_train = np.random.randint(2, size=(1000, 1))\n",
        "\n",
        "# ایجاد کالبک ReduceLROnPlateau\n",
        "# کالبک نرخ یادگیری را کاهش می‌دهد اگر دقت روی داده اعتبارسنجی به مدت 3 دوره ایستا بود.\n",
        "reduce_lr_callback = ReduceLROnPlateau(monitor='val_accuracy',\n",
        "                                       factor=0.2,\n",
        "                                       patience=3,\n",
        "                                       min_lr=1e-6)\n",
        "\n",
        "# آموزش مدل با استفاده از کالبک\n",
        "model.fit(x_train, y_train, epochs=10, validation_split=0.2, callbacks=[reduce_lr_callback])\n"
      ]
    }
  ]
}