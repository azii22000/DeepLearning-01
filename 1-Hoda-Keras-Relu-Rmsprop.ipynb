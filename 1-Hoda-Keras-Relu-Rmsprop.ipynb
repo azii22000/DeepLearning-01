{
  "nbformat": 4,
  "nbformat_minor": 0,
  "metadata": {
    "colab": {
      "provenance": [],
      "gpuType": "T4"
    },
    "kernelspec": {
      "name": "python3",
      "display_name": "Python 3"
    },
    "language_info": {
      "name": "python"
    },
    "accelerator": "GPU"
  },
  "cells": [
    {
      "cell_type": "code",
      "source": [
        "!wget https://github.com/azii22000/deeplearning-tensorflow2-notebooks/raw/master/dataset.py\n",
        "!wget https://github.com/azii22000/deeplearning-tensorflow2-notebooks/raw/master/dataset/Data_hoda_full.mat -P dataset"
      ],
      "metadata": {
        "colab": {
          "base_uri": "https://localhost:8080/"
        },
        "id": "r0OLql2G6q-c",
        "outputId": "49534ece-3e47-4485-aa8f-c86ec9ba14a2"
      },
      "execution_count": 2,
      "outputs": [
        {
          "output_type": "stream",
          "name": "stdout",
          "text": [
            "--2023-11-24 08:50:11--  https://github.com/azii22000/deeplearning-tensorflow2-notebooks/raw/master/dataset.py\n",
            "Resolving github.com (github.com)... 192.30.255.112\n",
            "Connecting to github.com (github.com)|192.30.255.112|:443... connected.\n",
            "HTTP request sent, awaiting response... 302 Found\n",
            "Location: https://raw.githubusercontent.com/azii22000/deeplearning-tensorflow2-notebooks/master/dataset.py [following]\n",
            "--2023-11-24 08:50:11--  https://raw.githubusercontent.com/azii22000/deeplearning-tensorflow2-notebooks/master/dataset.py\n",
            "Resolving raw.githubusercontent.com (raw.githubusercontent.com)... 185.199.108.133, 185.199.109.133, 185.199.110.133, ...\n",
            "Connecting to raw.githubusercontent.com (raw.githubusercontent.com)|185.199.108.133|:443... connected.\n",
            "HTTP request sent, awaiting response... 200 OK\n",
            "Length: 917 [text/plain]\n",
            "Saving to: ‘dataset.py’\n",
            "\n",
            "dataset.py          100%[===================>]     917  --.-KB/s    in 0s      \n",
            "\n",
            "2023-11-24 08:50:12 (41.3 MB/s) - ‘dataset.py’ saved [917/917]\n",
            "\n",
            "--2023-11-24 08:50:12--  https://github.com/azii22000/deeplearning-tensorflow2-notebooks/raw/master/dataset/Data_hoda_full.mat\n",
            "Resolving github.com (github.com)... 192.30.255.112\n",
            "Connecting to github.com (github.com)|192.30.255.112|:443... connected.\n",
            "HTTP request sent, awaiting response... 302 Found\n",
            "Location: https://raw.githubusercontent.com/azii22000/deeplearning-tensorflow2-notebooks/master/dataset/Data_hoda_full.mat [following]\n",
            "--2023-11-24 08:50:12--  https://raw.githubusercontent.com/azii22000/deeplearning-tensorflow2-notebooks/master/dataset/Data_hoda_full.mat\n",
            "Resolving raw.githubusercontent.com (raw.githubusercontent.com)... 185.199.108.133, 185.199.109.133, 185.199.110.133, ...\n",
            "Connecting to raw.githubusercontent.com (raw.githubusercontent.com)|185.199.108.133|:443... connected.\n",
            "HTTP request sent, awaiting response... 200 OK\n",
            "Length: 3989009 (3.8M) [application/octet-stream]\n",
            "Saving to: ‘dataset/Data_hoda_full.mat’\n",
            "\n",
            "Data_hoda_full.mat  100%[===================>]   3.80M  --.-KB/s    in 0.05s   \n",
            "\n",
            "2023-11-24 08:50:13 (77.3 MB/s) - ‘dataset/Data_hoda_full.mat’ saved [3989009/3989009]\n",
            "\n"
          ]
        }
      ]
    },
    {
      "cell_type": "code",
      "source": [
        "from tensorflow import keras\n",
        "from keras.models import Sequential\n",
        "from keras.layers import Dense\n",
        "import numpy as np\n",
        "\n",
        "from dataset import load_hoda\n",
        "\n",
        "\n",
        "\n",
        "import matplotlib.pyplot as plt\n",
        "%matplotlib inline\n",
        "\n"
      ],
      "metadata": {
        "id": "sehcZzS_6n-O"
      },
      "execution_count": 3,
      "outputs": []
    },
    {
      "cell_type": "code",
      "source": [
        "x_train_original, y_train_original, x_test_original, y_test_original = load_hoda()"
      ],
      "metadata": {
        "id": "2hmS4y5Q8Tpp"
      },
      "execution_count": 4,
      "outputs": []
    },
    {
      "cell_type": "markdown",
      "source": [
        "# **تبدیل کردن اعداد به صورت one hot**\n",
        "Ex: 6 ==> 0 0 0 0 0 0 1 0 0 0"
      ],
      "metadata": {
        "id": "RxtUojeq_bSo"
      }
    },
    {
      "cell_type": "code",
      "source": [
        "# Preprocess input data for Keras.\n",
        "y_train = keras.utils.to_categorical(y_train_original, num_classes=10)\n",
        "y_test = keras.utils.to_categorical(y_test_original, num_classes=10)"
      ],
      "metadata": {
        "id": "ymeOPbMK9YA-"
      },
      "execution_count": 5,
      "outputs": []
    },
    {
      "cell_type": "markdown",
      "source": [
        "هر پیکسل مقداری بین 0 تا 254 دارد پس با تقسیم بر 255 می توان مقداری بین 0-1 داشت که به معنای نرمال ساری می باشد"
      ],
      "metadata": {
        "id": "L-uryCJRA93g"
      }
    },
    {
      "cell_type": "code",
      "source": [
        "x_train = x_train_original.astype('float32')\n",
        "x_test = x_test_original.astype('float32')\n",
        "x_train /= 255\n",
        "x_test /= 255"
      ],
      "metadata": {
        "id": "PYwSJ0ZD9mLO"
      },
      "execution_count": 6,
      "outputs": []
    },
    {
      "cell_type": "markdown",
      "source": [
        "### **تعریف مدل شبکه عصبی**\n",
        "تعداد نرونهای ورودی = 25 عکس ها 5*5 یعنی 25 تایی هستند__\n",
        "نعداد نرونهای خروجی = 10 چون اعداد 1-10 خروجی هستند"
      ],
      "metadata": {
        "id": "g0UK9UGFB__l"
      }
    },
    {
      "cell_type": "code",
      "source": [
        "model = Sequential()\n",
        "model.add(Dense(64, activation='relu', input_dim=25))\n",
        "model.add(Dense(10, activation='softmax'))"
      ],
      "metadata": {
        "id": "pKTSYenw92V1"
      },
      "execution_count": 7,
      "outputs": []
    },
    {
      "cell_type": "code",
      "source": [
        "model.summary()"
      ],
      "metadata": {
        "colab": {
          "base_uri": "https://localhost:8080/"
        },
        "id": "1INOG7WYCLwF",
        "outputId": "27a44694-4674-4e63-c526-db9bdfde5a52"
      },
      "execution_count": 8,
      "outputs": [
        {
          "output_type": "stream",
          "name": "stdout",
          "text": [
            "Model: \"sequential\"\n",
            "_________________________________________________________________\n",
            " Layer (type)                Output Shape              Param #   \n",
            "=================================================================\n",
            " dense (Dense)               (None, 64)                1664      \n",
            "                                                                 \n",
            " dense_1 (Dense)             (None, 10)                650       \n",
            "                                                                 \n",
            "=================================================================\n",
            "Total params: 2314 (9.04 KB)\n",
            "Trainable params: 2314 (9.04 KB)\n",
            "Non-trainable params: 0 (0.00 Byte)\n",
            "_________________________________________________________________\n"
          ]
        }
      ]
    },
    {
      "cell_type": "code",
      "source": [
        "model.compile(loss='categorical_crossentropy',\n",
        "              optimizer='rmsprop',\n",
        "              metrics=['accuracy'])"
      ],
      "metadata": {
        "id": "4LQOxXbNDNXY"
      },
      "execution_count": 9,
      "outputs": []
    },
    {
      "cell_type": "code",
      "source": [
        "history = model.fit(x_train, y_train,\n",
        "          epochs=100,\n",
        "          batch_size=64, validation_split=0.2)"
      ],
      "metadata": {
        "colab": {
          "base_uri": "https://localhost:8080/"
        },
        "id": "B2DVCnbUDh2S",
        "outputId": "33527762-cc3e-46cc-dc44-ab2921929d10"
      },
      "execution_count": 10,
      "outputs": [
        {
          "output_type": "stream",
          "name": "stdout",
          "text": [
            "Epoch 1/100\n",
            "13/13 [==============================] - 5s 19ms/step - loss: 2.3212 - accuracy: 0.1625 - val_loss: 2.1992 - val_accuracy: 0.1950\n",
            "Epoch 2/100\n",
            "13/13 [==============================] - 0s 6ms/step - loss: 2.1145 - accuracy: 0.2725 - val_loss: 2.0310 - val_accuracy: 0.3250\n",
            "Epoch 3/100\n",
            "13/13 [==============================] - 0s 6ms/step - loss: 1.9505 - accuracy: 0.4137 - val_loss: 1.8693 - val_accuracy: 0.4800\n",
            "Epoch 4/100\n",
            "13/13 [==============================] - 0s 7ms/step - loss: 1.7921 - accuracy: 0.5900 - val_loss: 1.7147 - val_accuracy: 0.6350\n",
            "Epoch 5/100\n",
            "13/13 [==============================] - 0s 7ms/step - loss: 1.6383 - accuracy: 0.6750 - val_loss: 1.5693 - val_accuracy: 0.7000\n",
            "Epoch 6/100\n",
            "13/13 [==============================] - 0s 6ms/step - loss: 1.4896 - accuracy: 0.7188 - val_loss: 1.4256 - val_accuracy: 0.7400\n",
            "Epoch 7/100\n",
            "13/13 [==============================] - 0s 6ms/step - loss: 1.3493 - accuracy: 0.7613 - val_loss: 1.2928 - val_accuracy: 0.7600\n",
            "Epoch 8/100\n",
            "13/13 [==============================] - 0s 6ms/step - loss: 1.2203 - accuracy: 0.7825 - val_loss: 1.1760 - val_accuracy: 0.7700\n",
            "Epoch 9/100\n",
            "13/13 [==============================] - 0s 6ms/step - loss: 1.1032 - accuracy: 0.8112 - val_loss: 1.0749 - val_accuracy: 0.7700\n",
            "Epoch 10/100\n",
            "13/13 [==============================] - 0s 6ms/step - loss: 1.0004 - accuracy: 0.8238 - val_loss: 0.9748 - val_accuracy: 0.8050\n",
            "Epoch 11/100\n",
            "13/13 [==============================] - 0s 6ms/step - loss: 0.9076 - accuracy: 0.8388 - val_loss: 0.8934 - val_accuracy: 0.8150\n",
            "Epoch 12/100\n",
            "13/13 [==============================] - 0s 6ms/step - loss: 0.8278 - accuracy: 0.8438 - val_loss: 0.8218 - val_accuracy: 0.8350\n",
            "Epoch 13/100\n",
            "13/13 [==============================] - 0s 6ms/step - loss: 0.7601 - accuracy: 0.8475 - val_loss: 0.7639 - val_accuracy: 0.8350\n",
            "Epoch 14/100\n",
            "13/13 [==============================] - 0s 6ms/step - loss: 0.7028 - accuracy: 0.8462 - val_loss: 0.7197 - val_accuracy: 0.8400\n",
            "Epoch 15/100\n",
            "13/13 [==============================] - 0s 5ms/step - loss: 0.6520 - accuracy: 0.8600 - val_loss: 0.6741 - val_accuracy: 0.8400\n",
            "Epoch 16/100\n",
            "13/13 [==============================] - 0s 7ms/step - loss: 0.6083 - accuracy: 0.8587 - val_loss: 0.6386 - val_accuracy: 0.8450\n",
            "Epoch 17/100\n",
            "13/13 [==============================] - 0s 7ms/step - loss: 0.5711 - accuracy: 0.8637 - val_loss: 0.6082 - val_accuracy: 0.8400\n",
            "Epoch 18/100\n",
            "13/13 [==============================] - 0s 6ms/step - loss: 0.5390 - accuracy: 0.8725 - val_loss: 0.5822 - val_accuracy: 0.8550\n",
            "Epoch 19/100\n",
            "13/13 [==============================] - 0s 6ms/step - loss: 0.5116 - accuracy: 0.8700 - val_loss: 0.5613 - val_accuracy: 0.8550\n",
            "Epoch 20/100\n",
            "13/13 [==============================] - 0s 6ms/step - loss: 0.4866 - accuracy: 0.8737 - val_loss: 0.5361 - val_accuracy: 0.8600\n",
            "Epoch 21/100\n",
            "13/13 [==============================] - 0s 6ms/step - loss: 0.4655 - accuracy: 0.8763 - val_loss: 0.5227 - val_accuracy: 0.8650\n",
            "Epoch 22/100\n",
            "13/13 [==============================] - 0s 5ms/step - loss: 0.4453 - accuracy: 0.8825 - val_loss: 0.5058 - val_accuracy: 0.8650\n",
            "Epoch 23/100\n",
            "13/13 [==============================] - 0s 5ms/step - loss: 0.4291 - accuracy: 0.8775 - val_loss: 0.4948 - val_accuracy: 0.8700\n",
            "Epoch 24/100\n",
            "13/13 [==============================] - 0s 6ms/step - loss: 0.4134 - accuracy: 0.8813 - val_loss: 0.4867 - val_accuracy: 0.8700\n",
            "Epoch 25/100\n",
            "13/13 [==============================] - 0s 6ms/step - loss: 0.3997 - accuracy: 0.8800 - val_loss: 0.4728 - val_accuracy: 0.8700\n",
            "Epoch 26/100\n",
            "13/13 [==============================] - 0s 6ms/step - loss: 0.3856 - accuracy: 0.8875 - val_loss: 0.4576 - val_accuracy: 0.8750\n",
            "Epoch 27/100\n",
            "13/13 [==============================] - 0s 6ms/step - loss: 0.3749 - accuracy: 0.8863 - val_loss: 0.4536 - val_accuracy: 0.8650\n",
            "Epoch 28/100\n",
            "13/13 [==============================] - 0s 5ms/step - loss: 0.3624 - accuracy: 0.8838 - val_loss: 0.4383 - val_accuracy: 0.8700\n",
            "Epoch 29/100\n",
            "13/13 [==============================] - 0s 6ms/step - loss: 0.3534 - accuracy: 0.8925 - val_loss: 0.4309 - val_accuracy: 0.8650\n",
            "Epoch 30/100\n",
            "13/13 [==============================] - 0s 6ms/step - loss: 0.3435 - accuracy: 0.8913 - val_loss: 0.4271 - val_accuracy: 0.8650\n",
            "Epoch 31/100\n",
            "13/13 [==============================] - 0s 6ms/step - loss: 0.3351 - accuracy: 0.8963 - val_loss: 0.4203 - val_accuracy: 0.8750\n",
            "Epoch 32/100\n",
            "13/13 [==============================] - 0s 6ms/step - loss: 0.3263 - accuracy: 0.8950 - val_loss: 0.4169 - val_accuracy: 0.8700\n",
            "Epoch 33/100\n",
            "13/13 [==============================] - 0s 6ms/step - loss: 0.3198 - accuracy: 0.9038 - val_loss: 0.4057 - val_accuracy: 0.8700\n",
            "Epoch 34/100\n",
            "13/13 [==============================] - 0s 6ms/step - loss: 0.3126 - accuracy: 0.9013 - val_loss: 0.4008 - val_accuracy: 0.8750\n",
            "Epoch 35/100\n",
            "13/13 [==============================] - 0s 6ms/step - loss: 0.3052 - accuracy: 0.9000 - val_loss: 0.3961 - val_accuracy: 0.8900\n",
            "Epoch 36/100\n",
            "13/13 [==============================] - 0s 7ms/step - loss: 0.2987 - accuracy: 0.9038 - val_loss: 0.3965 - val_accuracy: 0.8850\n",
            "Epoch 37/100\n",
            "13/13 [==============================] - 0s 7ms/step - loss: 0.2944 - accuracy: 0.9038 - val_loss: 0.3930 - val_accuracy: 0.8800\n",
            "Epoch 38/100\n",
            "13/13 [==============================] - 0s 6ms/step - loss: 0.2870 - accuracy: 0.9050 - val_loss: 0.3875 - val_accuracy: 0.8750\n",
            "Epoch 39/100\n",
            "13/13 [==============================] - 0s 6ms/step - loss: 0.2827 - accuracy: 0.9112 - val_loss: 0.3808 - val_accuracy: 0.8800\n",
            "Epoch 40/100\n",
            "13/13 [==============================] - 0s 6ms/step - loss: 0.2766 - accuracy: 0.9100 - val_loss: 0.3790 - val_accuracy: 0.8850\n",
            "Epoch 41/100\n",
            "13/13 [==============================] - 0s 10ms/step - loss: 0.2731 - accuracy: 0.9112 - val_loss: 0.3793 - val_accuracy: 0.8850\n",
            "Epoch 42/100\n",
            "13/13 [==============================] - 0s 6ms/step - loss: 0.2673 - accuracy: 0.9150 - val_loss: 0.3774 - val_accuracy: 0.8800\n",
            "Epoch 43/100\n",
            "13/13 [==============================] - 0s 6ms/step - loss: 0.2642 - accuracy: 0.9175 - val_loss: 0.3668 - val_accuracy: 0.8950\n",
            "Epoch 44/100\n",
            "13/13 [==============================] - 0s 6ms/step - loss: 0.2599 - accuracy: 0.9187 - val_loss: 0.3704 - val_accuracy: 0.8850\n",
            "Epoch 45/100\n",
            "13/13 [==============================] - 0s 6ms/step - loss: 0.2558 - accuracy: 0.9225 - val_loss: 0.3656 - val_accuracy: 0.8800\n",
            "Epoch 46/100\n",
            "13/13 [==============================] - 0s 7ms/step - loss: 0.2518 - accuracy: 0.9187 - val_loss: 0.3685 - val_accuracy: 0.8800\n",
            "Epoch 47/100\n",
            "13/13 [==============================] - 0s 5ms/step - loss: 0.2487 - accuracy: 0.9187 - val_loss: 0.3659 - val_accuracy: 0.8900\n",
            "Epoch 48/100\n",
            "13/13 [==============================] - 0s 6ms/step - loss: 0.2439 - accuracy: 0.9225 - val_loss: 0.3602 - val_accuracy: 0.8900\n",
            "Epoch 49/100\n",
            "13/13 [==============================] - 0s 6ms/step - loss: 0.2417 - accuracy: 0.9162 - val_loss: 0.3570 - val_accuracy: 0.8950\n",
            "Epoch 50/100\n",
            "13/13 [==============================] - 0s 6ms/step - loss: 0.2376 - accuracy: 0.9237 - val_loss: 0.3590 - val_accuracy: 0.8800\n",
            "Epoch 51/100\n",
            "13/13 [==============================] - 0s 6ms/step - loss: 0.2340 - accuracy: 0.9237 - val_loss: 0.3523 - val_accuracy: 0.8850\n",
            "Epoch 52/100\n",
            "13/13 [==============================] - 0s 6ms/step - loss: 0.2325 - accuracy: 0.9275 - val_loss: 0.3505 - val_accuracy: 0.8950\n",
            "Epoch 53/100\n",
            "13/13 [==============================] - 0s 6ms/step - loss: 0.2272 - accuracy: 0.9300 - val_loss: 0.3514 - val_accuracy: 0.8900\n",
            "Epoch 54/100\n",
            "13/13 [==============================] - 0s 6ms/step - loss: 0.2249 - accuracy: 0.9287 - val_loss: 0.3504 - val_accuracy: 0.8900\n",
            "Epoch 55/100\n",
            "13/13 [==============================] - 0s 6ms/step - loss: 0.2217 - accuracy: 0.9250 - val_loss: 0.3463 - val_accuracy: 0.8900\n",
            "Epoch 56/100\n",
            "13/13 [==============================] - 0s 6ms/step - loss: 0.2195 - accuracy: 0.9287 - val_loss: 0.3441 - val_accuracy: 0.8900\n",
            "Epoch 57/100\n",
            "13/13 [==============================] - 0s 6ms/step - loss: 0.2155 - accuracy: 0.9287 - val_loss: 0.3461 - val_accuracy: 0.8800\n",
            "Epoch 58/100\n",
            "13/13 [==============================] - 0s 6ms/step - loss: 0.2136 - accuracy: 0.9325 - val_loss: 0.3415 - val_accuracy: 0.8950\n",
            "Epoch 59/100\n",
            "13/13 [==============================] - 0s 6ms/step - loss: 0.2101 - accuracy: 0.9262 - val_loss: 0.3430 - val_accuracy: 0.8950\n",
            "Epoch 60/100\n",
            "13/13 [==============================] - 0s 6ms/step - loss: 0.2075 - accuracy: 0.9312 - val_loss: 0.3358 - val_accuracy: 0.8950\n",
            "Epoch 61/100\n",
            "13/13 [==============================] - 0s 6ms/step - loss: 0.2062 - accuracy: 0.9312 - val_loss: 0.3396 - val_accuracy: 0.8850\n",
            "Epoch 62/100\n",
            "13/13 [==============================] - 0s 5ms/step - loss: 0.2037 - accuracy: 0.9337 - val_loss: 0.3355 - val_accuracy: 0.8950\n",
            "Epoch 63/100\n",
            "13/13 [==============================] - 0s 5ms/step - loss: 0.2003 - accuracy: 0.9312 - val_loss: 0.3387 - val_accuracy: 0.8850\n",
            "Epoch 64/100\n",
            "13/13 [==============================] - 0s 6ms/step - loss: 0.1991 - accuracy: 0.9312 - val_loss: 0.3400 - val_accuracy: 0.8900\n",
            "Epoch 65/100\n",
            "13/13 [==============================] - 0s 6ms/step - loss: 0.1968 - accuracy: 0.9325 - val_loss: 0.3332 - val_accuracy: 0.8950\n",
            "Epoch 66/100\n",
            "13/13 [==============================] - 0s 6ms/step - loss: 0.1925 - accuracy: 0.9362 - val_loss: 0.3291 - val_accuracy: 0.8900\n",
            "Epoch 67/100\n",
            "13/13 [==============================] - 0s 5ms/step - loss: 0.1919 - accuracy: 0.9325 - val_loss: 0.3301 - val_accuracy: 0.8900\n",
            "Epoch 68/100\n",
            "13/13 [==============================] - 0s 7ms/step - loss: 0.1901 - accuracy: 0.9413 - val_loss: 0.3282 - val_accuracy: 0.8950\n",
            "Epoch 69/100\n",
            "13/13 [==============================] - 0s 8ms/step - loss: 0.1879 - accuracy: 0.9400 - val_loss: 0.3292 - val_accuracy: 0.8950\n",
            "Epoch 70/100\n",
            "13/13 [==============================] - 0s 8ms/step - loss: 0.1860 - accuracy: 0.9388 - val_loss: 0.3298 - val_accuracy: 0.8900\n",
            "Epoch 71/100\n",
            "13/13 [==============================] - 0s 7ms/step - loss: 0.1839 - accuracy: 0.9375 - val_loss: 0.3292 - val_accuracy: 0.8950\n",
            "Epoch 72/100\n",
            "13/13 [==============================] - 0s 7ms/step - loss: 0.1814 - accuracy: 0.9438 - val_loss: 0.3251 - val_accuracy: 0.8900\n",
            "Epoch 73/100\n",
            "13/13 [==============================] - 0s 7ms/step - loss: 0.1782 - accuracy: 0.9413 - val_loss: 0.3300 - val_accuracy: 0.8950\n",
            "Epoch 74/100\n",
            "13/13 [==============================] - 0s 7ms/step - loss: 0.1778 - accuracy: 0.9438 - val_loss: 0.3239 - val_accuracy: 0.9050\n",
            "Epoch 75/100\n",
            "13/13 [==============================] - 0s 8ms/step - loss: 0.1757 - accuracy: 0.9438 - val_loss: 0.3266 - val_accuracy: 0.9000\n",
            "Epoch 76/100\n",
            "13/13 [==============================] - 0s 8ms/step - loss: 0.1735 - accuracy: 0.9463 - val_loss: 0.3288 - val_accuracy: 0.9000\n",
            "Epoch 77/100\n",
            "13/13 [==============================] - 0s 8ms/step - loss: 0.1719 - accuracy: 0.9450 - val_loss: 0.3281 - val_accuracy: 0.8950\n",
            "Epoch 78/100\n",
            "13/13 [==============================] - 0s 8ms/step - loss: 0.1702 - accuracy: 0.9438 - val_loss: 0.3290 - val_accuracy: 0.9000\n",
            "Epoch 79/100\n",
            "13/13 [==============================] - 0s 9ms/step - loss: 0.1679 - accuracy: 0.9475 - val_loss: 0.3281 - val_accuracy: 0.9000\n",
            "Epoch 80/100\n",
            "13/13 [==============================] - 0s 7ms/step - loss: 0.1670 - accuracy: 0.9500 - val_loss: 0.3235 - val_accuracy: 0.8950\n",
            "Epoch 81/100\n",
            "13/13 [==============================] - 0s 8ms/step - loss: 0.1645 - accuracy: 0.9488 - val_loss: 0.3264 - val_accuracy: 0.9000\n",
            "Epoch 82/100\n",
            "13/13 [==============================] - 0s 9ms/step - loss: 0.1625 - accuracy: 0.9525 - val_loss: 0.3231 - val_accuracy: 0.9000\n",
            "Epoch 83/100\n",
            "13/13 [==============================] - 0s 7ms/step - loss: 0.1615 - accuracy: 0.9488 - val_loss: 0.3244 - val_accuracy: 0.9000\n",
            "Epoch 84/100\n",
            "13/13 [==============================] - 0s 7ms/step - loss: 0.1595 - accuracy: 0.9525 - val_loss: 0.3210 - val_accuracy: 0.9000\n",
            "Epoch 85/100\n",
            "13/13 [==============================] - 0s 7ms/step - loss: 0.1573 - accuracy: 0.9513 - val_loss: 0.3208 - val_accuracy: 0.9000\n",
            "Epoch 86/100\n",
            "13/13 [==============================] - 0s 9ms/step - loss: 0.1570 - accuracy: 0.9500 - val_loss: 0.3224 - val_accuracy: 0.9000\n",
            "Epoch 87/100\n",
            "13/13 [==============================] - 0s 12ms/step - loss: 0.1539 - accuracy: 0.9500 - val_loss: 0.3223 - val_accuracy: 0.9000\n",
            "Epoch 88/100\n",
            "13/13 [==============================] - 0s 8ms/step - loss: 0.1530 - accuracy: 0.9525 - val_loss: 0.3232 - val_accuracy: 0.9050\n",
            "Epoch 89/100\n",
            "13/13 [==============================] - 0s 7ms/step - loss: 0.1516 - accuracy: 0.9525 - val_loss: 0.3224 - val_accuracy: 0.9000\n",
            "Epoch 90/100\n",
            "13/13 [==============================] - 0s 8ms/step - loss: 0.1502 - accuracy: 0.9525 - val_loss: 0.3196 - val_accuracy: 0.9000\n",
            "Epoch 91/100\n",
            "13/13 [==============================] - 0s 8ms/step - loss: 0.1481 - accuracy: 0.9575 - val_loss: 0.3256 - val_accuracy: 0.8850\n",
            "Epoch 92/100\n",
            "13/13 [==============================] - 0s 8ms/step - loss: 0.1485 - accuracy: 0.9550 - val_loss: 0.3241 - val_accuracy: 0.9000\n",
            "Epoch 93/100\n",
            "13/13 [==============================] - 0s 7ms/step - loss: 0.1450 - accuracy: 0.9575 - val_loss: 0.3265 - val_accuracy: 0.8950\n",
            "Epoch 94/100\n",
            "13/13 [==============================] - 0s 8ms/step - loss: 0.1434 - accuracy: 0.9563 - val_loss: 0.3271 - val_accuracy: 0.9000\n",
            "Epoch 95/100\n",
            "13/13 [==============================] - 0s 9ms/step - loss: 0.1430 - accuracy: 0.9550 - val_loss: 0.3247 - val_accuracy: 0.9050\n",
            "Epoch 96/100\n",
            "13/13 [==============================] - 0s 8ms/step - loss: 0.1408 - accuracy: 0.9588 - val_loss: 0.3219 - val_accuracy: 0.9000\n",
            "Epoch 97/100\n",
            "13/13 [==============================] - 0s 9ms/step - loss: 0.1394 - accuracy: 0.9613 - val_loss: 0.3259 - val_accuracy: 0.9000\n",
            "Epoch 98/100\n",
            "13/13 [==============================] - 0s 8ms/step - loss: 0.1384 - accuracy: 0.9588 - val_loss: 0.3260 - val_accuracy: 0.9000\n",
            "Epoch 99/100\n",
            "13/13 [==============================] - 0s 9ms/step - loss: 0.1381 - accuracy: 0.9575 - val_loss: 0.3245 - val_accuracy: 0.9000\n",
            "Epoch 100/100\n",
            "13/13 [==============================] - 0s 8ms/step - loss: 0.1351 - accuracy: 0.9663 - val_loss: 0.3228 - val_accuracy: 0.8950\n"
          ]
        }
      ]
    },
    {
      "cell_type": "code",
      "source": [
        "history.history.keys()"
      ],
      "metadata": {
        "colab": {
          "base_uri": "https://localhost:8080/"
        },
        "id": "yIpbZifaF5hf",
        "outputId": "4cb09ab1-5723-4b08-eaa1-5f624cd29183"
      },
      "execution_count": 11,
      "outputs": [
        {
          "output_type": "execute_result",
          "data": {
            "text/plain": [
              "dict_keys(['loss', 'accuracy', 'val_loss', 'val_accuracy'])"
            ]
          },
          "metadata": {},
          "execution_count": 11
        }
      ]
    },
    {
      "cell_type": "code",
      "source": [
        "plt.plot(history.history['val_loss'])\n",
        "plt.plot(history.history['loss'])\n",
        "plt.legend(['val','train'])"
      ],
      "metadata": {
        "colab": {
          "base_uri": "https://localhost:8080/",
          "height": 448
        },
        "id": "XCdT7zx3Hjjb",
        "outputId": "1a55c555-2df8-46c8-cfbf-530be6f03257"
      },
      "execution_count": 12,
      "outputs": [
        {
          "output_type": "execute_result",
          "data": {
            "text/plain": [
              "<matplotlib.legend.Legend at 0x7ec773b7fbe0>"
            ]
          },
          "metadata": {},
          "execution_count": 12
        },
        {
          "output_type": "display_data",
          "data": {
            "text/plain": [
              "<Figure size 640x480 with 1 Axes>"
            ],
            "image/png": "[encoded data removed]"
          },
          "metadata": {}
        }
      ]
    },
    {
      "cell_type": "code",
      "source": [
        "plt.plot(history.history['val_accuracy'])\n",
        "plt.plot(history.history['accuracy'])\n",
        "plt.legend(['val','train'])"
      ],
      "metadata": {
        "colab": {
          "base_uri": "https://localhost:8080/",
          "height": 451
        },
        "id": "dzgI1MsIDk25",
        "outputId": "fb780957-f100-48ae-fa83-adc4e5d4b5c2"
      },
      "execution_count": 13,
      "outputs": [
        {
          "output_type": "execute_result",
          "data": {
            "text/plain": [
              "<matplotlib.legend.Legend at 0x7ec763f36e90>"
            ]
          },
          "metadata": {},
          "execution_count": 13
        },
        {
          "output_type": "display_data",
          "data": {
            "text/plain": [
              "<Figure size 640x480 with 1 Axes>"
            ],
            "image/png": "[encoded data removed]"
          },
          "metadata": {}
        }
      ]
    },
    {
      "cell_type": "markdown",
      "source": [
        "### ارزیابی مدل روی داده های **آزمون**"
      ],
      "metadata": {
        "id": "L_zXcXYAITa9"
      }
    },
    {
      "cell_type": "code",
      "source": [
        "loss, acc = model.evaluate(x_test, y_test)\n",
        "print('\\nTesting loss: %.2f, acc: %.2f%%'%(loss, acc))"
      ],
      "metadata": {
        "colab": {
          "base_uri": "https://localhost:8080/"
        },
        "id": "xMr-0qIND4Ch",
        "outputId": "52167ae4-c985-46ff-a114-4e7565be8c0e"
      },
      "execution_count": 14,
      "outputs": [
        {
          "output_type": "stream",
          "name": "stdout",
          "text": [
            "7/7 [==============================] - 0s 4ms/step - loss: 0.2939 - accuracy: 0.9100\n",
            "\n",
            "Testing loss: 0.29, acc: 0.91%\n"
          ]
        }
      ]
    },
    {
      "cell_type": "markdown",
      "source": [
        "### پیش بینی داده های **آموزش**"
      ],
      "metadata": {
        "id": "1n6WPfTVIhXS"
      }
    },
    {
      "cell_type": "code",
      "source": [
        "# The predict_classes function outputs the highest probability class\n",
        "# according to the trained classifier for each input example.\n",
        "predicted = model.predict(x_test)"
      ],
      "metadata": {
        "colab": {
          "base_uri": "https://localhost:8080/"
        },
        "id": "oN4ynPB5JAUN",
        "outputId": "92157e40-f0b5-4289-bd47-771ff155824c"
      },
      "execution_count": 15,
      "outputs": [
        {
          "output_type": "stream",
          "name": "stdout",
          "text": [
            "7/7 [==============================] - 0s 2ms/step\n"
          ]
        }
      ]
    },
    {
      "cell_type": "code",
      "source": [
        "predicted[0]"
      ],
      "metadata": {
        "colab": {
          "base_uri": "https://localhost:8080/"
        },
        "id": "R14XXE2-Jlg0",
        "outputId": "38944232-882b-4447-e2ef-ccdf57a02cab"
      },
      "execution_count": 16,
      "outputs": [
        {
          "output_type": "execute_result",
          "data": {
            "text/plain": [
              "array([1.4784238e-05, 1.1534049e-06, 9.9756508e-06, 1.6540391e-05,\n",
              "       3.9535286e-07, 3.9678275e-06, 6.7613721e-05, 9.9988198e-01,\n",
              "       2.9707521e-09, 3.5644252e-06], dtype=float32)"
            ]
          },
          "metadata": {},
          "execution_count": 16
        }
      ]
    },
    {
      "cell_type": "code",
      "source": [
        "y_test[0]"
      ],
      "metadata": {
        "colab": {
          "base_uri": "https://localhost:8080/"
        },
        "id": "MpTVLFQ7JrCA",
        "outputId": "7ee3d5a7-fbe1-412d-a8ac-7b07046f71f1"
      },
      "execution_count": 17,
      "outputs": [
        {
          "output_type": "execute_result",
          "data": {
            "text/plain": [
              "array([0., 0., 0., 0., 0., 0., 0., 1., 0., 0.], dtype=float32)"
            ]
          },
          "metadata": {},
          "execution_count": 17
        }
      ]
    },
    {
      "cell_type": "code",
      "source": [
        "a = np.argmax(y_test[0])\n",
        "print ('y_test is : ',a)\n",
        "b = np.argmax(predicted[0])\n",
        "print ('predicted is : ',b)"
      ],
      "metadata": {
        "colab": {
          "base_uri": "https://localhost:8080/"
        },
        "id": "SREvgrW7J5on",
        "outputId": "a2718438-f3c1-4eae-8082-527b86673193"
      },
      "execution_count": 18,
      "outputs": [
        {
          "output_type": "stream",
          "name": "stdout",
          "text": [
            "y_test is :  7\n",
            "predicted is :  7\n"
          ]
        }
      ]
    },
    {
      "cell_type": "code",
      "source": [
        "predicted_classes = np.argmax(predicted, axis= 1)"
      ],
      "metadata": {
        "id": "F7kB3qxQKplm"
      },
      "execution_count": 19,
      "outputs": []
    },
    {
      "cell_type": "code",
      "source": [
        "# The predict_classes function outputs the highest probability class\n",
        "# according to the trained classifier for each input example.\n",
        "#predicted_classes = model.predict_classes(x_test)\n",
        "print(\"predicted:\")\n",
        "print(predicted_classes)\n",
        "print(\"True Label:\")\n",
        "print(y_test_original)"
      ],
      "metadata": {
        "colab": {
          "base_uri": "https://localhost:8080/"
        },
        "id": "MrGBysBkEAk5",
        "outputId": "d664877e-8b32-4b15-9b1f-1a114f58713f"
      },
      "execution_count": 20,
      "outputs": [
        {
          "output_type": "stream",
          "name": "stdout",
          "text": [
            "predicted:\n",
            "[7 2 3 5 5 5 4 7 3 2 0 8 8 0 2 9 3 6 7 4 0 3 6 3 9 2 7 5 2 9 2 5 5 8 9 6 5\n",
            " 1 4 8 8 4 7 2 1 2 7 9 0 3 7 5 7 5 2 9 8 2 9 8 8 6 6 6 7 6 2 4 2 4 4 5 9 1\n",
            " 8 4 0 5 6 2 4 6 2 7 7 7 7 1 8 1 7 8 7 7 8 9 7 2 3 1 0 2 9 6 3 5 5 0 0 9 6\n",
            " 7 9 3 9 9 8 7 9 2 5 2 5 5 9 6 9 2 0 3 7 9 5 2 9 0 3 1 8 2 2 3 5 2 9 3 8 2\n",
            " 7 0 9 9 0 7 6 5 4 4 9 3 7 0 7 4 9 4 7 3 4 1 5 6 7 9 1 3 5 4 5 7 4 1 3 3 1\n",
            " 1 3 3 8 9 6 7 7 2 3 0 1 0 9 5]\n",
            "True Label:\n",
            "[7 2 3 1 5 5 4 7 3 2 0 8 8 0 2 9 3 6 7 4 0 3 6 3 9 2 7 5 2 9 7 5 5 8 9 6 5\n",
            " 1 4 8 8 4 7 7 1 2 7 9 0 3 7 4 7 5 2 9 8 2 9 8 8 6 6 6 6 6 2 4 3 4 4 5 9 1\n",
            " 8 2 0 5 6 2 4 3 2 7 7 7 7 1 8 1 7 8 7 7 8 9 3 2 3 1 0 2 9 6 3 5 5 0 0 3 6\n",
            " 7 9 3 9 9 8 7 9 2 5 2 5 5 9 6 9 2 0 3 7 6 5 2 9 0 4 1 8 2 2 3 0 2 9 3 8 6\n",
            " 7 0 9 9 0 7 6 5 4 7 9 3 7 0 7 1 9 4 7 3 4 1 5 6 7 9 1 3 5 4 5 7 4 1 3 3 1\n",
            " 2 3 3 8 9 6 7 7 2 3 0 1 4 9 5]\n"
          ]
        }
      ]
    },
    {
      "cell_type": "code",
      "source": [
        "from sklearn.metrics import confusion_matrix\n",
        "plt.matshow(confusion_matrix(y_test_original, predicted_classes), cmap=\"Blues\")\n",
        "plt.xticks(range(10))\n",
        "plt.yticks(range(10))\n",
        "plt.xlabel(\"Predicted label\")\n",
        "plt.ylabel(\"True label\");"
      ],
      "metadata": {
        "colab": {
          "base_uri": "https://localhost:8080/",
          "height": 457
        },
        "id": "Zlvhrc7ED9K7",
        "outputId": "268de819-877d-41ab-d9b9-5b41650c6948"
      },
      "execution_count": 21,
      "outputs": [
        {
          "output_type": "display_data",
          "data": {
            "text/plain": [
              "<Figure size 480x480 with 1 Axes>"
            ],
            "image/png": "[encoded data removed]"
          },
          "metadata": {}
        }
      ]
    },
    {
      "cell_type": "code",
      "source": [],
      "metadata": {
        "id": "r4Wq-W0RLBys"
      },
      "execution_count": 21,
      "outputs": []
    }
  ]
}