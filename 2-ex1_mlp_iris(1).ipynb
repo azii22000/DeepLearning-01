{
  "cells": [
    {
      "cell_type": "markdown",
      "metadata": {
        "id": "z5KLnpB4trjq"
      },
      "source": [
        "<center><div style=\"direction:rtl;font-family:B Lotus, B Nazanin, Tahoma\">به نام خدا</div></center>\n",
        "\n",
        "<h1><center><div style=\"direction:rtl;font-family:B Lotus, B Nazanin, Tahoma\">تمرین عملی 1: طبقه بندی با شبکه های تمام متصل روی مجموعه داده IRIS</div></center></h1>"
      ]
    },
    {
      "cell_type": "markdown",
      "metadata": {
        "id": "k5Q6a3Y5trjs"
      },
      "source": [
        "## <div style=\"direction:rtl;text-align:right;font-family:B Lotus, B Nazanin, Tahoma\">صورت مساله</div>\n",
        "\n",
        "\n",
        "<div style=\"direction:rtl;text-align:right;font-family:Tahoma\">\n",
        "در اولین جلسه کارگاه طبقه بندی با شبکه های تمام متصل را دیدیم.\n",
        "<br>\n",
        "توصیه می‌شود حتما نوت بوک‌های زیر را قبل از این تمرین مرور کنید:\n",
        "</div>\n",
        "\n",
        "[04_a Gentle Introduction to Keras - Simple neural network(mlp).ipynb](https://nbviewer.jupyter.org/github/alireza-akhavan/SRU-deeplearning-workshop/blob/master/04_a%20Gentle%20Introduction%20to%20Keras%20-%20Simple%20neural%20network%28mlp%29.ipynb)\n",
        "\n",
        "[05_Dropout.ipynb](https://nbviewer.jupyter.org/github/alireza-akhavan/SRU-deeplearning-workshop/blob/master/05_Dropout.ipynb)\n",
        "\n",
        "<div style=\"direction:rtl;text-align:right;font-family:Tahoma\">\n",
        "در این جلسه با داده های تصویری آشنا شدیم. اما در این تمرین برای اینکه بدانیم کاربرد این مباحث در مسائل غیر تصویری نیز هست  از مجموعه داده ی ساختار یافتهiris  شامل 4 ویژگی برای طول و عرض کاسبرگ و گلبرگ استفاده خواهیم کرد که بتوانیم بر اساس این ویژگی ها نوع گل را از 3 کلاس متفاوت تشخیص دهیم.\n",
        "</div>"
      ]
    },
    {
      "cell_type": "markdown",
      "metadata": {
        "id": "sqnX_ljJtrjt"
      },
      "source": [
        "## <div style=\"direction:rtl;text-align:right;font-family:B Lotus, B Nazanin, Tahoma\">لود کتابخانه های مورد نیاز </div>\n",
        "<div style=\"direction:rtl;text-align:right;font-family:Tahoma\">\n",
        "کتابخانه های مورد نیاز این تمرین لود شده اند\n",
        "<br>\n",
        "در صورت نیاز میتوانید کتابخانه های بیشتری لود کنید:\n",
        "</div>"
      ]
    },
    {
      "cell_type": "code",
      "execution_count": 3,
      "metadata": {
        "id": "GwX99V_xtrju"
      },
      "outputs": [],
      "source": [
        "import numpy as np\n",
        "from tensorflow import keras\n",
        "from sklearn.datasets import load_iris\n",
        "from sklearn.model_selection import train_test_split\n",
        "from keras.models import Sequential\n",
        "from keras.layers import Dense, Dropout\n",
        "from keras.optimizers import Adam"
      ]
    },
    {
      "cell_type": "markdown",
      "metadata": {
        "id": "ggBLmuA3trjv"
      },
      "source": [
        "<div style=\"direction:rtl;text-align:right;font-family:Tahoma\">\n",
        "در این تمرین میخواهیم از مجموعه داده iris استفاده کنیم.\n",
        "<br>\n",
        "توضیحات این مجموعه داده در سایت آن موجود است:\n",
        "</div>\n",
        "\n",
        "https://archive.ics.uci.edu/ml/datasets/iris\n",
        "\n",
        "\n",
        "<div style=\"direction:rtl;text-align:right;font-family:Tahoma\">\n",
        "ویژگی ها و کلاس های این مجموعه داده به شرح زیر است:\n",
        "</div>\n",
        "\n",
        "Attribute Information:\n",
        "\n",
        "1. sepal length in cm\n",
        "2. sepal width in cm\n",
        "3. petal length in cm\n",
        "4. petal width in cm\n",
        "\n",
        "class:\n",
        "\n",
        "    Iris Setosa\n",
        "    Iris Versicolour\n",
        "    Iris Virginica\n",
        "\n",
        "<div style=\"direction:rtl;text-align:right;font-family:Tahoma\">\n",
        "این دیتاست در کتابخانه sklearn موجود است\n",
        "<br>\n",
        "در قطعه کد زیر ویژگی ها را در x و برچسب یا labelهای متناظر را در y لود شده است.\n",
        "</div>"
      ]
    },
    {
      "cell_type": "code",
      "execution_count": 4,
      "metadata": {
        "id": "b8ZE1eOqtrjw"
      },
      "outputs": [],
      "source": [
        "iris_data = load_iris() # load the iris dataset\n",
        "x = iris_data.data\n",
        "y = iris_data.target.reshape(-1, 1) # Convert data to a single column"
      ]
    },
    {
      "cell_type": "markdown",
      "metadata": {
        "id": "X9yPlXrAtrjx"
      },
      "source": [
        "# <div style=\"direction:rtl;text-align:right;font-family:B Lotus, B Nazanin, Tahoma\">سوال 1:</div>\n",
        "<div style=\"direction:rtl;text-align:right;font-family:Tahoma\">\n",
        "برچسب یا label های ما در حال حاضر عددی است.\n",
        "<br>\n",
        "این اعداد 0 تا 2 هستند و به عبارتی 3 حالت مختلف دارند.\n",
        "<br>\n",
        "این برچسب ها را به فرمت one-hot تبدیل کنید و خروجی را مجدد در y بریزید.\n",
        "\n",
        "<br>\n",
        "<b>راهنمایی: </b>\n",
        "از تابع keras.utils.to_categorical استفاده کنید.\n",
        "</div>"
      ]
    },
    {
      "cell_type": "code",
      "execution_count": 5,
      "metadata": {
        "id": "urjZ7N2Xtrjx"
      },
      "outputs": [],
      "source": [
        "y = keras.utils.to_categorical(y, num_classes=3)"
      ]
    },
    {
      "cell_type": "markdown",
      "metadata": {
        "id": "9pAuaYuQtrjy"
      },
      "source": [
        "<div style=\"direction:rtl;text-align:right;font-family:Tahoma\">\n",
        "در زیر داده ها  به داده های test و train تقسیم شده است:\n",
        "</div>"
      ]
    },
    {
      "cell_type": "code",
      "execution_count": 6,
      "metadata": {
        "id": "ma5tR7PJtrjz"
      },
      "outputs": [],
      "source": [
        "# Split the data for training and testing\n",
        "train_x, test_x, train_y, test_y = train_test_split(x, y, test_size=0.20)"
      ]
    },
    {
      "cell_type": "markdown",
      "metadata": {
        "id": "9erW9zLUtrj0"
      },
      "source": [
        "# <div style=\"direction:rtl;text-align:right;font-family:B Lotus, B Nazanin, Tahoma\">سوال 2:</div>\n",
        "<div style=\"direction:rtl;text-align:right;font-family:Tahoma\">\n",
        "یک شبکه با دو hidden-layer در هر لایه 10 نوران و تابع فعالیت relu بسازید. یک لایه Dropout با نرخ 0.5 در لایه آخر ماقبل softmax نیز اضافه کنید.\n",
        "</div>"
      ]
    },
    {
      "cell_type": "code",
      "execution_count": 7,
      "metadata": {
        "id": "HgD76_jJtrj0"
      },
      "outputs": [],
      "source": [
        "# Build the model\n",
        "model = Sequential()\n",
        "model.add(Dense(10, activation='relu', input_dim=4))\n",
        "model.add(Dense(10, activation='relu'))\n",
        "model.add(Dense(3, activation='softmax'))"
      ]
    },
    {
      "cell_type": "code",
      "execution_count": 8,
      "metadata": {
        "id": "5670d080trj1",
        "outputId": "94656340-7ab0-4f4a-b67f-88a399081b86",
        "colab": {
          "base_uri": "https://localhost:8080/"
        }
      },
      "outputs": [
        {
          "output_type": "stream",
          "name": "stdout",
          "text": [
            "Model: \"sequential\"\n",
            "_________________________________________________________________\n",
            " Layer (type)                Output Shape              Param #   \n",
            "=================================================================\n",
            " dense (Dense)               (None, 10)                50        \n",
            "                                                                 \n",
            " dense_1 (Dense)             (None, 10)                110       \n",
            "                                                                 \n",
            " dense_2 (Dense)             (None, 3)                 33        \n",
            "                                                                 \n",
            "=================================================================\n",
            "Total params: 193 (772.00 Byte)\n",
            "Trainable params: 193 (772.00 Byte)\n",
            "Non-trainable params: 0 (0.00 Byte)\n",
            "_________________________________________________________________\n"
          ]
        }
      ],
      "source": [
        "model.summary()"
      ]
    },
    {
      "cell_type": "markdown",
      "metadata": {
        "id": "czQkP9swtrj2"
      },
      "source": [
        "<div style=\"direction:rtl;text-align:right;font-family:Tahoma\">در زیر مدل کامپایل شده است.</div>"
      ]
    },
    {
      "cell_type": "code",
      "execution_count": 9,
      "metadata": {
        "id": "DcLgzH-Ntrj2",
        "outputId": "ad1c53ee-c78a-4783-8c0d-c46b2c0a966a",
        "colab": {
          "base_uri": "https://localhost:8080/"
        }
      },
      "outputs": [
        {
          "output_type": "stream",
          "name": "stderr",
          "text": [
            "WARNING:absl:`lr` is deprecated in Keras optimizer, please use `learning_rate` or use the legacy optimizer, e.g.,tf.keras.optimizers.legacy.Adam.\n"
          ]
        }
      ],
      "source": [
        "# Adam optimizer with learning rate of 0.001\n",
        "optimizer = Adam(lr=0.001)\n",
        "model.compile(optimizer, loss='categorical_crossentropy', metrics=['accuracy'])"
      ]
    },
    {
      "cell_type": "markdown",
      "metadata": {
        "id": "Zt55XsKvtrj3"
      },
      "source": [
        "# <div style=\"direction:rtl;text-align:right;font-family:B Lotus, B Nazanin, Tahoma\">سوال 3:</div>\n",
        "<div style=\"direction:rtl;text-align:right;font-family:Tahoma\">\n",
        "مدل را با  batch_size=5 و تعداد 200 ایپاک آموزش دهید.\n",
        "<br>\n",
        "<b>راهنمایی: </b>\n",
        "از تابع model.fit استفاده کنید.\n",
        "</div>"
      ]
    },
    {
      "cell_type": "code",
      "execution_count": 10,
      "metadata": {
        "id": "ydM7RXvatrj3",
        "outputId": "f16be781-27ef-4a8b-82c0-d9c3a5f95cec",
        "colab": {
          "base_uri": "https://localhost:8080/"
        }
      },
      "outputs": [
        {
          "output_type": "stream",
          "name": "stdout",
          "text": [
            "Epoch 1/200\n",
            "24/24 [==============================] - 6s 5ms/step - loss: 1.1628 - accuracy: 0.3250\n",
            "Epoch 2/200\n",
            "24/24 [==============================] - 0s 5ms/step - loss: 1.0564 - accuracy: 0.3333\n",
            "Epoch 3/200\n",
            "24/24 [==============================] - 0s 4ms/step - loss: 0.9934 - accuracy: 0.4583\n",
            "Epoch 4/200\n",
            "24/24 [==============================] - 0s 4ms/step - loss: 0.9381 - accuracy: 0.8917\n",
            "Epoch 5/200\n",
            "24/24 [==============================] - 0s 5ms/step - loss: 0.8836 - accuracy: 0.8667\n",
            "Epoch 6/200\n",
            "24/24 [==============================] - 0s 4ms/step - loss: 0.8167 - accuracy: 0.8833\n",
            "Epoch 7/200\n",
            "24/24 [==============================] - 0s 4ms/step - loss: 0.7434 - accuracy: 0.8583\n",
            "Epoch 8/200\n",
            "24/24 [==============================] - 0s 4ms/step - loss: 0.6783 - accuracy: 0.9417\n",
            "Epoch 9/200\n",
            "24/24 [==============================] - 0s 4ms/step - loss: 0.6275 - accuracy: 0.9167\n",
            "Epoch 10/200\n",
            "24/24 [==============================] - 0s 3ms/step - loss: 0.5850 - accuracy: 0.8833\n",
            "Epoch 11/200\n",
            "24/24 [==============================] - 0s 3ms/step - loss: 0.5473 - accuracy: 0.8417\n",
            "Epoch 12/200\n",
            "24/24 [==============================] - 0s 3ms/step - loss: 0.5152 - accuracy: 0.8500\n",
            "Epoch 13/200\n",
            "24/24 [==============================] - 0s 3ms/step - loss: 0.4873 - accuracy: 0.8917\n",
            "Epoch 14/200\n",
            "24/24 [==============================] - 0s 3ms/step - loss: 0.4683 - accuracy: 0.8083\n",
            "Epoch 15/200\n",
            "24/24 [==============================] - 0s 3ms/step - loss: 0.4404 - accuracy: 0.9083\n",
            "Epoch 16/200\n",
            "24/24 [==============================] - 0s 3ms/step - loss: 0.4206 - accuracy: 0.9417\n",
            "Epoch 17/200\n",
            "24/24 [==============================] - 0s 3ms/step - loss: 0.4054 - accuracy: 0.9167\n",
            "Epoch 18/200\n",
            "24/24 [==============================] - 0s 3ms/step - loss: 0.3878 - accuracy: 0.9417\n",
            "Epoch 19/200\n",
            "24/24 [==============================] - 0s 3ms/step - loss: 0.3780 - accuracy: 0.8917\n",
            "Epoch 20/200\n",
            "24/24 [==============================] - 0s 3ms/step - loss: 0.3610 - accuracy: 0.9250\n",
            "Epoch 21/200\n",
            "24/24 [==============================] - 0s 3ms/step - loss: 0.3421 - accuracy: 0.9500\n",
            "Epoch 22/200\n",
            "24/24 [==============================] - 0s 3ms/step - loss: 0.3287 - accuracy: 0.9417\n",
            "Epoch 23/200\n",
            "24/24 [==============================] - 0s 3ms/step - loss: 0.3169 - accuracy: 0.9250\n",
            "Epoch 24/200\n",
            "24/24 [==============================] - 0s 3ms/step - loss: 0.3012 - accuracy: 0.9583\n",
            "Epoch 25/200\n",
            "24/24 [==============================] - 0s 3ms/step - loss: 0.2900 - accuracy: 0.9500\n",
            "Epoch 26/200\n",
            "24/24 [==============================] - 0s 3ms/step - loss: 0.2767 - accuracy: 0.9583\n",
            "Epoch 27/200\n",
            "24/24 [==============================] - 0s 3ms/step - loss: 0.2669 - accuracy: 0.9417\n",
            "Epoch 28/200\n",
            "24/24 [==============================] - 0s 3ms/step - loss: 0.2573 - accuracy: 0.9500\n",
            "Epoch 29/200\n",
            "24/24 [==============================] - 0s 3ms/step - loss: 0.2495 - accuracy: 0.9583\n",
            "Epoch 30/200\n",
            "24/24 [==============================] - 0s 3ms/step - loss: 0.2374 - accuracy: 0.9667\n",
            "Epoch 31/200\n",
            "24/24 [==============================] - 0s 3ms/step - loss: 0.2299 - accuracy: 0.9333\n",
            "Epoch 32/200\n",
            "24/24 [==============================] - 0s 3ms/step - loss: 0.2281 - accuracy: 0.9583\n",
            "Epoch 33/200\n",
            "24/24 [==============================] - 0s 3ms/step - loss: 0.2190 - accuracy: 0.9667\n",
            "Epoch 34/200\n",
            "24/24 [==============================] - 0s 3ms/step - loss: 0.2052 - accuracy: 0.9583\n",
            "Epoch 35/200\n",
            "24/24 [==============================] - 0s 3ms/step - loss: 0.1961 - accuracy: 0.9667\n",
            "Epoch 36/200\n",
            "24/24 [==============================] - 0s 3ms/step - loss: 0.1899 - accuracy: 0.9667\n",
            "Epoch 37/200\n",
            "24/24 [==============================] - 0s 3ms/step - loss: 0.1916 - accuracy: 0.9667\n",
            "Epoch 38/200\n",
            "24/24 [==============================] - 0s 3ms/step - loss: 0.1978 - accuracy: 0.9583\n",
            "Epoch 39/200\n",
            "24/24 [==============================] - 0s 3ms/step - loss: 0.1826 - accuracy: 0.9417\n",
            "Epoch 40/200\n",
            "24/24 [==============================] - 0s 3ms/step - loss: 0.1708 - accuracy: 0.9500\n",
            "Epoch 41/200\n",
            "24/24 [==============================] - 0s 3ms/step - loss: 0.1662 - accuracy: 0.9750\n",
            "Epoch 42/200\n",
            "24/24 [==============================] - 0s 3ms/step - loss: 0.1621 - accuracy: 0.9583\n",
            "Epoch 43/200\n",
            "24/24 [==============================] - 0s 3ms/step - loss: 0.1559 - accuracy: 0.9667\n",
            "Epoch 44/200\n",
            "24/24 [==============================] - 0s 3ms/step - loss: 0.1603 - accuracy: 0.9500\n",
            "Epoch 45/200\n",
            "24/24 [==============================] - 0s 3ms/step - loss: 0.1462 - accuracy: 0.9750\n",
            "Epoch 46/200\n",
            "24/24 [==============================] - 0s 3ms/step - loss: 0.1475 - accuracy: 0.9583\n",
            "Epoch 47/200\n",
            "24/24 [==============================] - 0s 3ms/step - loss: 0.1421 - accuracy: 0.9667\n",
            "Epoch 48/200\n",
            "24/24 [==============================] - 0s 3ms/step - loss: 0.1412 - accuracy: 0.9500\n",
            "Epoch 49/200\n",
            "24/24 [==============================] - 0s 3ms/step - loss: 0.1420 - accuracy: 0.9750\n",
            "Epoch 50/200\n",
            "24/24 [==============================] - 0s 3ms/step - loss: 0.1346 - accuracy: 0.9750\n",
            "Epoch 51/200\n",
            "24/24 [==============================] - 0s 3ms/step - loss: 0.1349 - accuracy: 0.9750\n",
            "Epoch 52/200\n",
            "24/24 [==============================] - 0s 3ms/step - loss: 0.1285 - accuracy: 0.9667\n",
            "Epoch 53/200\n",
            "24/24 [==============================] - 0s 3ms/step - loss: 0.1269 - accuracy: 0.9833\n",
            "Epoch 54/200\n",
            "24/24 [==============================] - 0s 3ms/step - loss: 0.1243 - accuracy: 0.9750\n",
            "Epoch 55/200\n",
            "24/24 [==============================] - 0s 3ms/step - loss: 0.1222 - accuracy: 0.9583\n",
            "Epoch 56/200\n",
            "24/24 [==============================] - 0s 3ms/step - loss: 0.1203 - accuracy: 0.9750\n",
            "Epoch 57/200\n",
            "24/24 [==============================] - 0s 3ms/step - loss: 0.1292 - accuracy: 0.9667\n",
            "Epoch 58/200\n",
            "24/24 [==============================] - 0s 3ms/step - loss: 0.1146 - accuracy: 0.9750\n",
            "Epoch 59/200\n",
            "24/24 [==============================] - 0s 4ms/step - loss: 0.1282 - accuracy: 0.9500\n",
            "Epoch 60/200\n",
            "24/24 [==============================] - 0s 3ms/step - loss: 0.1143 - accuracy: 0.9750\n",
            "Epoch 61/200\n",
            "24/24 [==============================] - 0s 3ms/step - loss: 0.1090 - accuracy: 0.9833\n",
            "Epoch 62/200\n",
            "24/24 [==============================] - 0s 3ms/step - loss: 0.1166 - accuracy: 0.9667\n",
            "Epoch 63/200\n",
            "24/24 [==============================] - 0s 3ms/step - loss: 0.1118 - accuracy: 0.9750\n",
            "Epoch 64/200\n",
            "24/24 [==============================] - 0s 3ms/step - loss: 0.1069 - accuracy: 0.9750\n",
            "Epoch 65/200\n",
            "24/24 [==============================] - 0s 3ms/step - loss: 0.1039 - accuracy: 0.9667\n",
            "Epoch 66/200\n",
            "24/24 [==============================] - 0s 3ms/step - loss: 0.0981 - accuracy: 0.9750\n",
            "Epoch 67/200\n",
            "24/24 [==============================] - 0s 3ms/step - loss: 0.0979 - accuracy: 0.9833\n",
            "Epoch 68/200\n",
            "24/24 [==============================] - 0s 3ms/step - loss: 0.1073 - accuracy: 0.9667\n",
            "Epoch 69/200\n",
            "24/24 [==============================] - 0s 3ms/step - loss: 0.0955 - accuracy: 0.9833\n",
            "Epoch 70/200\n",
            "24/24 [==============================] - 0s 3ms/step - loss: 0.1024 - accuracy: 0.9667\n",
            "Epoch 71/200\n",
            "24/24 [==============================] - 0s 3ms/step - loss: 0.1033 - accuracy: 0.9667\n",
            "Epoch 72/200\n",
            "24/24 [==============================] - 0s 3ms/step - loss: 0.0891 - accuracy: 0.9667\n",
            "Epoch 73/200\n",
            "24/24 [==============================] - 0s 3ms/step - loss: 0.0884 - accuracy: 0.9750\n",
            "Epoch 74/200\n",
            "24/24 [==============================] - 0s 3ms/step - loss: 0.0943 - accuracy: 0.9750\n",
            "Epoch 75/200\n",
            "24/24 [==============================] - 0s 3ms/step - loss: 0.0994 - accuracy: 0.9500\n",
            "Epoch 76/200\n",
            "24/24 [==============================] - 0s 3ms/step - loss: 0.0887 - accuracy: 0.9750\n",
            "Epoch 77/200\n",
            "24/24 [==============================] - 0s 3ms/step - loss: 0.0933 - accuracy: 0.9667\n",
            "Epoch 78/200\n",
            "24/24 [==============================] - 0s 3ms/step - loss: 0.1062 - accuracy: 0.9750\n",
            "Epoch 79/200\n",
            "24/24 [==============================] - 0s 3ms/step - loss: 0.0944 - accuracy: 0.9833\n",
            "Epoch 80/200\n",
            "24/24 [==============================] - 0s 3ms/step - loss: 0.0912 - accuracy: 0.9750\n",
            "Epoch 81/200\n",
            "24/24 [==============================] - 0s 3ms/step - loss: 0.0849 - accuracy: 0.9833\n",
            "Epoch 82/200\n",
            "24/24 [==============================] - 0s 3ms/step - loss: 0.0820 - accuracy: 0.9833\n",
            "Epoch 83/200\n",
            "24/24 [==============================] - 0s 3ms/step - loss: 0.0923 - accuracy: 0.9667\n",
            "Epoch 84/200\n",
            "24/24 [==============================] - 0s 3ms/step - loss: 0.1013 - accuracy: 0.9667\n",
            "Epoch 85/200\n",
            "24/24 [==============================] - 0s 3ms/step - loss: 0.0915 - accuracy: 0.9667\n",
            "Epoch 86/200\n",
            "24/24 [==============================] - 0s 3ms/step - loss: 0.0860 - accuracy: 0.9833\n",
            "Epoch 87/200\n",
            "24/24 [==============================] - 0s 3ms/step - loss: 0.0816 - accuracy: 0.9833\n",
            "Epoch 88/200\n",
            "24/24 [==============================] - 0s 3ms/step - loss: 0.0814 - accuracy: 0.9750\n",
            "Epoch 89/200\n",
            "24/24 [==============================] - 0s 3ms/step - loss: 0.0813 - accuracy: 0.9833\n",
            "Epoch 90/200\n",
            "24/24 [==============================] - 0s 3ms/step - loss: 0.0783 - accuracy: 0.9833\n",
            "Epoch 91/200\n",
            "24/24 [==============================] - 0s 3ms/step - loss: 0.0766 - accuracy: 0.9833\n",
            "Epoch 92/200\n",
            "24/24 [==============================] - 0s 3ms/step - loss: 0.0862 - accuracy: 0.9750\n",
            "Epoch 93/200\n",
            "24/24 [==============================] - 0s 3ms/step - loss: 0.0826 - accuracy: 0.9750\n",
            "Epoch 94/200\n",
            "24/24 [==============================] - 0s 3ms/step - loss: 0.0836 - accuracy: 0.9667\n",
            "Epoch 95/200\n",
            "24/24 [==============================] - 0s 3ms/step - loss: 0.0805 - accuracy: 0.9833\n",
            "Epoch 96/200\n",
            "24/24 [==============================] - 0s 3ms/step - loss: 0.0762 - accuracy: 0.9833\n",
            "Epoch 97/200\n",
            "24/24 [==============================] - 0s 4ms/step - loss: 0.0797 - accuracy: 0.9833\n",
            "Epoch 98/200\n",
            "24/24 [==============================] - 0s 3ms/step - loss: 0.0733 - accuracy: 0.9833\n",
            "Epoch 99/200\n",
            "24/24 [==============================] - 0s 3ms/step - loss: 0.0759 - accuracy: 0.9833\n",
            "Epoch 100/200\n",
            "24/24 [==============================] - 0s 3ms/step - loss: 0.0732 - accuracy: 0.9833\n",
            "Epoch 101/200\n",
            "24/24 [==============================] - 0s 3ms/step - loss: 0.0755 - accuracy: 0.9833\n",
            "Epoch 102/200\n",
            "24/24 [==============================] - 0s 3ms/step - loss: 0.0782 - accuracy: 0.9750\n",
            "Epoch 103/200\n",
            "24/24 [==============================] - 0s 3ms/step - loss: 0.0755 - accuracy: 0.9833\n",
            "Epoch 104/200\n",
            "24/24 [==============================] - 0s 3ms/step - loss: 0.0769 - accuracy: 0.9750\n",
            "Epoch 105/200\n",
            "24/24 [==============================] - 0s 3ms/step - loss: 0.0776 - accuracy: 0.9833\n",
            "Epoch 106/200\n",
            "24/24 [==============================] - 0s 3ms/step - loss: 0.0733 - accuracy: 0.9750\n",
            "Epoch 107/200\n",
            "24/24 [==============================] - 0s 3ms/step - loss: 0.0774 - accuracy: 0.9750\n",
            "Epoch 108/200\n",
            "24/24 [==============================] - 0s 3ms/step - loss: 0.0722 - accuracy: 0.9833\n",
            "Epoch 109/200\n",
            "24/24 [==============================] - 0s 3ms/step - loss: 0.0714 - accuracy: 0.9833\n",
            "Epoch 110/200\n",
            "24/24 [==============================] - 0s 3ms/step - loss: 0.0773 - accuracy: 0.9750\n",
            "Epoch 111/200\n",
            "24/24 [==============================] - 0s 3ms/step - loss: 0.0749 - accuracy: 0.9833\n",
            "Epoch 112/200\n",
            "24/24 [==============================] - 0s 3ms/step - loss: 0.0852 - accuracy: 0.9583\n",
            "Epoch 113/200\n",
            "24/24 [==============================] - 0s 3ms/step - loss: 0.0797 - accuracy: 0.9833\n",
            "Epoch 114/200\n",
            "24/24 [==============================] - 0s 3ms/step - loss: 0.0715 - accuracy: 0.9833\n",
            "Epoch 115/200\n",
            "24/24 [==============================] - 0s 3ms/step - loss: 0.0735 - accuracy: 0.9833\n",
            "Epoch 116/200\n",
            "24/24 [==============================] - 0s 3ms/step - loss: 0.0763 - accuracy: 0.9750\n",
            "Epoch 117/200\n",
            "24/24 [==============================] - 0s 3ms/step - loss: 0.0712 - accuracy: 0.9833\n",
            "Epoch 118/200\n",
            "24/24 [==============================] - 0s 3ms/step - loss: 0.0764 - accuracy: 0.9750\n",
            "Epoch 119/200\n",
            "24/24 [==============================] - 0s 3ms/step - loss: 0.0718 - accuracy: 0.9833\n",
            "Epoch 120/200\n",
            "24/24 [==============================] - 0s 3ms/step - loss: 0.0768 - accuracy: 0.9583\n",
            "Epoch 121/200\n",
            "24/24 [==============================] - 0s 3ms/step - loss: 0.0780 - accuracy: 0.9750\n",
            "Epoch 122/200\n",
            "24/24 [==============================] - 0s 3ms/step - loss: 0.0727 - accuracy: 0.9750\n",
            "Epoch 123/200\n",
            "24/24 [==============================] - 0s 3ms/step - loss: 0.0716 - accuracy: 0.9833\n",
            "Epoch 124/200\n",
            "24/24 [==============================] - 0s 3ms/step - loss: 0.0689 - accuracy: 0.9833\n",
            "Epoch 125/200\n",
            "24/24 [==============================] - 0s 3ms/step - loss: 0.0721 - accuracy: 0.9750\n",
            "Epoch 126/200\n",
            "24/24 [==============================] - 0s 3ms/step - loss: 0.0773 - accuracy: 0.9750\n",
            "Epoch 127/200\n",
            "24/24 [==============================] - 0s 3ms/step - loss: 0.0780 - accuracy: 0.9833\n",
            "Epoch 128/200\n",
            "24/24 [==============================] - 0s 3ms/step - loss: 0.0745 - accuracy: 0.9750\n",
            "Epoch 129/200\n",
            "24/24 [==============================] - 0s 3ms/step - loss: 0.0718 - accuracy: 0.9750\n",
            "Epoch 130/200\n",
            "24/24 [==============================] - 0s 3ms/step - loss: 0.0697 - accuracy: 0.9833\n",
            "Epoch 131/200\n",
            "24/24 [==============================] - 0s 3ms/step - loss: 0.0678 - accuracy: 0.9833\n",
            "Epoch 132/200\n",
            "24/24 [==============================] - 0s 3ms/step - loss: 0.0702 - accuracy: 0.9833\n",
            "Epoch 133/200\n",
            "24/24 [==============================] - 0s 5ms/step - loss: 0.0739 - accuracy: 0.9750\n",
            "Epoch 134/200\n",
            "24/24 [==============================] - 0s 4ms/step - loss: 0.0688 - accuracy: 0.9750\n",
            "Epoch 135/200\n",
            "24/24 [==============================] - 0s 5ms/step - loss: 0.0674 - accuracy: 0.9833\n",
            "Epoch 136/200\n",
            "24/24 [==============================] - 0s 4ms/step - loss: 0.0693 - accuracy: 0.9750\n",
            "Epoch 137/200\n",
            "24/24 [==============================] - 0s 4ms/step - loss: 0.0688 - accuracy: 0.9833\n",
            "Epoch 138/200\n",
            "24/24 [==============================] - 0s 4ms/step - loss: 0.0698 - accuracy: 0.9833\n",
            "Epoch 139/200\n",
            "24/24 [==============================] - 0s 4ms/step - loss: 0.0713 - accuracy: 0.9833\n",
            "Epoch 140/200\n",
            "24/24 [==============================] - 0s 5ms/step - loss: 0.0660 - accuracy: 0.9750\n",
            "Epoch 141/200\n",
            "24/24 [==============================] - 0s 5ms/step - loss: 0.0714 - accuracy: 0.9833\n",
            "Epoch 142/200\n",
            "24/24 [==============================] - 0s 4ms/step - loss: 0.0672 - accuracy: 0.9750\n",
            "Epoch 143/200\n",
            "24/24 [==============================] - 0s 4ms/step - loss: 0.0699 - accuracy: 0.9750\n",
            "Epoch 144/200\n",
            "24/24 [==============================] - 0s 4ms/step - loss: 0.0682 - accuracy: 0.9750\n",
            "Epoch 145/200\n",
            "24/24 [==============================] - 0s 4ms/step - loss: 0.0709 - accuracy: 0.9833\n",
            "Epoch 146/200\n",
            "24/24 [==============================] - 0s 4ms/step - loss: 0.0747 - accuracy: 0.9750\n",
            "Epoch 147/200\n",
            "24/24 [==============================] - 0s 3ms/step - loss: 0.0766 - accuracy: 0.9667\n",
            "Epoch 148/200\n",
            "24/24 [==============================] - 0s 3ms/step - loss: 0.0676 - accuracy: 0.9833\n",
            "Epoch 149/200\n",
            "24/24 [==============================] - 0s 4ms/step - loss: 0.0681 - accuracy: 0.9833\n",
            "Epoch 150/200\n",
            "24/24 [==============================] - 0s 4ms/step - loss: 0.0686 - accuracy: 0.9750\n",
            "Epoch 151/200\n",
            "24/24 [==============================] - 0s 4ms/step - loss: 0.0650 - accuracy: 0.9917\n",
            "Epoch 152/200\n",
            "24/24 [==============================] - 0s 4ms/step - loss: 0.0771 - accuracy: 0.9750\n",
            "Epoch 153/200\n",
            "24/24 [==============================] - 0s 4ms/step - loss: 0.0689 - accuracy: 0.9750\n",
            "Epoch 154/200\n",
            "24/24 [==============================] - 0s 4ms/step - loss: 0.0674 - accuracy: 0.9833\n",
            "Epoch 155/200\n",
            "24/24 [==============================] - 0s 4ms/step - loss: 0.0706 - accuracy: 0.9667\n",
            "Epoch 156/200\n",
            "24/24 [==============================] - 0s 4ms/step - loss: 0.0667 - accuracy: 0.9750\n",
            "Epoch 157/200\n",
            "24/24 [==============================] - 0s 4ms/step - loss: 0.0678 - accuracy: 0.9750\n",
            "Epoch 158/200\n",
            "24/24 [==============================] - 0s 4ms/step - loss: 0.0671 - accuracy: 0.9750\n",
            "Epoch 159/200\n",
            "24/24 [==============================] - 0s 4ms/step - loss: 0.0683 - accuracy: 0.9750\n",
            "Epoch 160/200\n",
            "24/24 [==============================] - 0s 4ms/step - loss: 0.0628 - accuracy: 0.9833\n",
            "Epoch 161/200\n",
            "24/24 [==============================] - 0s 4ms/step - loss: 0.0646 - accuracy: 0.9833\n",
            "Epoch 162/200\n",
            "24/24 [==============================] - 0s 4ms/step - loss: 0.0742 - accuracy: 0.9750\n",
            "Epoch 163/200\n",
            "24/24 [==============================] - 0s 4ms/step - loss: 0.0652 - accuracy: 0.9833\n",
            "Epoch 164/200\n",
            "24/24 [==============================] - 0s 4ms/step - loss: 0.0694 - accuracy: 0.9750\n",
            "Epoch 165/200\n",
            "24/24 [==============================] - 0s 4ms/step - loss: 0.0704 - accuracy: 0.9750\n",
            "Epoch 166/200\n",
            "24/24 [==============================] - 0s 4ms/step - loss: 0.0705 - accuracy: 0.9833\n",
            "Epoch 167/200\n",
            "24/24 [==============================] - 0s 4ms/step - loss: 0.0648 - accuracy: 0.9750\n",
            "Epoch 168/200\n",
            "24/24 [==============================] - 0s 4ms/step - loss: 0.0629 - accuracy: 0.9750\n",
            "Epoch 169/200\n",
            "24/24 [==============================] - 0s 4ms/step - loss: 0.0646 - accuracy: 0.9833\n",
            "Epoch 170/200\n",
            "24/24 [==============================] - 0s 5ms/step - loss: 0.0649 - accuracy: 0.9833\n",
            "Epoch 171/200\n",
            "24/24 [==============================] - 0s 5ms/step - loss: 0.0674 - accuracy: 0.9833\n",
            "Epoch 172/200\n",
            "24/24 [==============================] - 0s 4ms/step - loss: 0.0713 - accuracy: 0.9750\n",
            "Epoch 173/200\n",
            "24/24 [==============================] - 0s 4ms/step - loss: 0.0896 - accuracy: 0.9583\n",
            "Epoch 174/200\n",
            "24/24 [==============================] - 0s 4ms/step - loss: 0.0698 - accuracy: 0.9833\n",
            "Epoch 175/200\n",
            "24/24 [==============================] - 0s 4ms/step - loss: 0.0632 - accuracy: 0.9750\n",
            "Epoch 176/200\n",
            "24/24 [==============================] - 0s 4ms/step - loss: 0.0669 - accuracy: 0.9750\n",
            "Epoch 177/200\n",
            "24/24 [==============================] - 0s 3ms/step - loss: 0.0633 - accuracy: 0.9833\n",
            "Epoch 178/200\n",
            "24/24 [==============================] - 0s 3ms/step - loss: 0.0653 - accuracy: 0.9750\n",
            "Epoch 179/200\n",
            "24/24 [==============================] - 0s 3ms/step - loss: 0.0653 - accuracy: 0.9750\n",
            "Epoch 180/200\n",
            "24/24 [==============================] - 0s 3ms/step - loss: 0.0640 - accuracy: 0.9833\n",
            "Epoch 181/200\n",
            "24/24 [==============================] - 0s 3ms/step - loss: 0.0656 - accuracy: 0.9750\n",
            "Epoch 182/200\n",
            "24/24 [==============================] - 0s 3ms/step - loss: 0.0697 - accuracy: 0.9833\n",
            "Epoch 183/200\n",
            "24/24 [==============================] - 0s 3ms/step - loss: 0.0623 - accuracy: 0.9750\n",
            "Epoch 184/200\n",
            "24/24 [==============================] - 0s 3ms/step - loss: 0.0625 - accuracy: 0.9833\n",
            "Epoch 185/200\n",
            "24/24 [==============================] - 0s 3ms/step - loss: 0.0669 - accuracy: 0.9833\n",
            "Epoch 186/200\n",
            "24/24 [==============================] - 0s 3ms/step - loss: 0.0655 - accuracy: 0.9833\n",
            "Epoch 187/200\n",
            "24/24 [==============================] - 0s 4ms/step - loss: 0.0674 - accuracy: 0.9750\n",
            "Epoch 188/200\n",
            "24/24 [==============================] - 0s 3ms/step - loss: 0.0646 - accuracy: 0.9750\n",
            "Epoch 189/200\n",
            "24/24 [==============================] - 0s 3ms/step - loss: 0.0666 - accuracy: 0.9833\n",
            "Epoch 190/200\n",
            "24/24 [==============================] - 0s 3ms/step - loss: 0.0723 - accuracy: 0.9750\n",
            "Epoch 191/200\n",
            "24/24 [==============================] - 0s 3ms/step - loss: 0.0654 - accuracy: 0.9833\n",
            "Epoch 192/200\n",
            "24/24 [==============================] - 0s 3ms/step - loss: 0.0714 - accuracy: 0.9750\n",
            "Epoch 193/200\n",
            "24/24 [==============================] - 0s 3ms/step - loss: 0.0636 - accuracy: 0.9833\n",
            "Epoch 194/200\n",
            "24/24 [==============================] - 0s 3ms/step - loss: 0.0658 - accuracy: 0.9833\n",
            "Epoch 195/200\n",
            "24/24 [==============================] - 0s 3ms/step - loss: 0.0677 - accuracy: 0.9750\n",
            "Epoch 196/200\n",
            "24/24 [==============================] - 0s 3ms/step - loss: 0.0672 - accuracy: 0.9833\n",
            "Epoch 197/200\n",
            "24/24 [==============================] - 0s 3ms/step - loss: 0.0753 - accuracy: 0.9500\n",
            "Epoch 198/200\n",
            "24/24 [==============================] - 0s 3ms/step - loss: 0.0643 - accuracy: 0.9750\n",
            "Epoch 199/200\n",
            "24/24 [==============================] - 0s 4ms/step - loss: 0.0630 - accuracy: 0.9750\n",
            "Epoch 200/200\n",
            "24/24 [==============================] - 0s 3ms/step - loss: 0.0643 - accuracy: 0.9750\n"
          ]
        }
      ],
      "source": [
        "# Train the model\n",
        "m =  model.fit(train_x, train_y, epochs=200,batch_size=5)"
      ]
    },
    {
      "cell_type": "markdown",
      "metadata": {
        "id": "wxSTN4lVtrj4"
      },
      "source": [
        "# <div style=\"direction:rtl;text-align:right;font-family:B Lotus, B Nazanin, Tahoma\">سوال 4:</div>\n",
        "<div style=\"direction:rtl;text-align:right;font-family:Tahoma\">\n",
        "مدل را روی داده های test ارزیابی کنید.\n",
        "<br>\n",
        "<b>راهنمایی: </b>\n",
        "از تابع model.evaluate استفاده کنید.\n",
        "</div>"
      ]
    },
    {
      "cell_type": "code",
      "execution_count": 11,
      "metadata": {
        "id": "4phh4tnUtrj4",
        "outputId": "9c23b4d0-9c46-4245-969d-5ec3fc79367d",
        "colab": {
          "base_uri": "https://localhost:8080/"
        }
      },
      "outputs": [
        {
          "output_type": "stream",
          "name": "stdout",
          "text": [
            "1/1 [==============================] - 0s 198ms/step - loss: 0.0491 - accuracy: 1.0000\n",
            "Final test set loss: 0.049140\n",
            "Final test set accuracy: 1.000000\n"
          ]
        }
      ],
      "source": [
        "# Test on unseen data\n",
        "results = model.evaluate(test_x, test_y)\n",
        "\n",
        "print('Final test set loss: {:4f}'.format(results[0]))\n",
        "print('Final test set accuracy: {:4f}'.format(results[1]))"
      ]
    },
    {
      "cell_type": "code",
      "source": [],
      "metadata": {
        "id": "rmJVhQmM0_0K"
      },
      "execution_count": null,
      "outputs": []
    }
  ],
  "metadata": {
    "kernelspec": {
      "display_name": "Python 3",
      "name": "python3"
    },
    "language_info": {
      "codemirror_mode": {
        "name": "ipython",
        "version": 3
      },
      "file_extension": ".py",
      "mimetype": "text/x-python",
      "name": "python",
      "nbconvert_exporter": "python",
      "pygments_lexer": "ipython3",
      "version": "3.8.10"
    },
    "colab": {
      "provenance": [],
      "gpuType": "T4"
    },
    "accelerator": "GPU"
  },
  "nbformat": 4,
  "nbformat_minor": 0
}