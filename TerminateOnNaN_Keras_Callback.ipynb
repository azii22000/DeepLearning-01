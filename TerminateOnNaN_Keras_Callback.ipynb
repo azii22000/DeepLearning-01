{
  "nbformat": 4,
  "nbformat_minor": 0,
  "metadata": {
    "colab": {
      "provenance": [],
      "gpuType": "T4",
      "authorship_tag": "ABX9TyMRY/G2ClSMs0y/TR42Nq5q",
      "include_colab_link": true
    },
    "kernelspec": {
      "name": "python3",
      "display_name": "Python 3"
    },
    "language_info": {
      "name": "python"
    },
    "accelerator": "GPU"
  },
  "cells": [
    {
      "cell_type": "markdown",
      "metadata": {
        "id": "view-in-github",
        "colab_type": "text"
      },
      "source": [
        "<a href=\"https://colab.research.google.com/github/azii22000/DeepLearning-01/blob/main/TerminateOnNaN_Keras_Callback.ipynb\" target=\"_parent\"><img src=\"https://colab.research.google.com/assets/colab-badge.svg\" alt=\"Open In Colab\"/></a>"
      ]
    },
    {
      "cell_type": "code",
      "execution_count": 1,
      "metadata": {
        "colab": {
          "base_uri": "https://localhost:8080/"
        },
        "id": "S93ycObzQyQK",
        "outputId": "15420811-0d72-49d8-924e-0ab81c09c1a4"
      },
      "outputs": [
        {
          "output_type": "stream",
          "name": "stdout",
          "text": [
            "Epoch 1/10\n",
            "32/32 [==============================] - 6s 4ms/step - loss: 0.6943 - accuracy: 0.5180\n",
            "Epoch 2/10\n",
            "32/32 [==============================] - 0s 3ms/step - loss: 0.6904 - accuracy: 0.5360\n",
            "Epoch 3/10\n",
            "32/32 [==============================] - 0s 3ms/step - loss: 0.6868 - accuracy: 0.5500\n",
            "Epoch 4/10\n",
            "32/32 [==============================] - 0s 4ms/step - loss: 0.6849 - accuracy: 0.5510\n",
            "Epoch 5/10\n",
            "32/32 [==============================] - 0s 3ms/step - loss: 0.6840 - accuracy: 0.5740\n",
            "Epoch 6/10\n",
            "32/32 [==============================] - 0s 5ms/step - loss: 0.6825 - accuracy: 0.5660\n",
            "Epoch 7/10\n",
            "32/32 [==============================] - 0s 5ms/step - loss: 0.6798 - accuracy: 0.5730\n",
            "Epoch 8/10\n",
            "32/32 [==============================] - 0s 5ms/step - loss: 0.6815 - accuracy: 0.5820\n",
            "Epoch 9/10\n",
            "32/32 [==============================] - 0s 4ms/step - loss: 0.6792 - accuracy: 0.5750\n",
            "Epoch 10/10\n",
            "32/32 [==============================] - 0s 5ms/step - loss: 0.6789 - accuracy: 0.5590\n"
          ]
        },
        {
          "output_type": "execute_result",
          "data": {
            "text/plain": [
              "<keras.src.callbacks.History at 0x7fb8e8f25480>"
            ]
          },
          "metadata": {},
          "execution_count": 1
        }
      ],
      "source": [
        "import tensorflow as tf\n",
        "from tensorflow.keras.models import Sequential\n",
        "from tensorflow.keras.layers import Dense\n",
        "from tensorflow.keras.callbacks import TerminateOnNaN\n",
        "\n",
        "# تعریف یک مدل ساده\n",
        "model = Sequential([\n",
        "    Dense(64, activation='relu', input_shape=(10,)),\n",
        "    Dense(64, activation='relu'),\n",
        "    Dense(1, activation='sigmoid')\n",
        "])\n",
        "\n",
        "# کامپایل مدل\n",
        "model.compile(optimizer='adam', loss='binary_crossentropy', metrics=['accuracy'])\n",
        "\n",
        "# دیتاست نمونه (با داده‌های واقعی خود جایگزین کنید)\n",
        "import numpy as np\n",
        "x_train = np.random.random((1000, 10))\n",
        "y_train = np.random.randint(2, size=(1000, 1))\n",
        "\n",
        "# ایجاد کالبک TerminateOnNaN\n",
        "# این کالبک آموزش را متوقف می‌کند اگر مقادیر NaN شوند.\n",
        "terminate_on_nan_callback = TerminateOnNaN()\n",
        "\n",
        "# آموزش مدل با استفاده از کالبک\n",
        "model.fit(x_train, y_train, epochs=10, callbacks=[terminate_on_nan_callback])\n"
      ]
    }
  ]
}