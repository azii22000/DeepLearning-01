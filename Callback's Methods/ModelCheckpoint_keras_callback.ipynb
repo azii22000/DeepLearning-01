{
  "nbformat": 4,
  "nbformat_minor": 0,
  "metadata": {
    "colab": {
      "provenance": [],
      "gpuType": "T4",
      "authorship_tag": "ABX9TyMjkGDAPT0QtF5BX9H2iEdI",
      "include_colab_link": true
    },
    "kernelspec": {
      "name": "python3",
      "display_name": "Python 3"
    },
    "language_info": {
      "name": "python"
    },
    "accelerator": "GPU"
  },
  "cells": [
    {
      "cell_type": "markdown",
      "metadata": {
        "id": "view-in-github",
        "colab_type": "text"
      },
      "source": [
        "<a href=\"https://colab.research.google.com/github/azii22000/DeepLearning-01/blob/main/ModelCheckpoint_keras_callback.ipynb\" target=\"_parent\"><img src=\"https://colab.research.google.com/assets/colab-badge.svg\" alt=\"Open In Colab\"/></a>"
      ]
    },
    {
      "cell_type": "code",
      "execution_count": 1,
      "metadata": {
        "colab": {
          "base_uri": "https://localhost:8080/"
        },
        "id": "hKaiv6At7eEW",
        "outputId": "1b21465f-7850-415b-f2b9-d5c51074b6db"
      },
      "outputs": [
        {
          "output_type": "stream",
          "name": "stdout",
          "text": [
            "Epoch 1/10\n",
            "25/25 [==============================] - 7s 17ms/step - loss: 0.6962 - accuracy: 0.4963 - val_loss: 0.6926 - val_accuracy: 0.5350\n",
            "Epoch 2/10\n",
            "25/25 [==============================] - 0s 4ms/step - loss: 0.6889 - accuracy: 0.5312 - val_loss: 0.6941 - val_accuracy: 0.4950\n",
            "Epoch 3/10\n",
            "20/25 [=======================>......] - ETA: 0s - loss: 0.6830 - accuracy: 0.5656"
          ]
        },
        {
          "output_type": "stream",
          "name": "stderr",
          "text": [
            "/usr/local/lib/python3.10/dist-packages/keras/src/engine/training.py:3079: UserWarning: You are saving your model as an HDF5 file via `model.save()`. This file format is considered legacy. We recommend using instead the native Keras format, e.g. `model.save('my_model.keras')`.\n",
            "  saving_api.save_model(\n"
          ]
        },
        {
          "output_type": "stream",
          "name": "stdout",
          "text": [
            "\b\b\b\b\b\b\b\b\b\b\b\b\b\b\b\b\b\b\b\b\b\b\b\b\b\b\b\b\b\b\b\b\b\b\b\b\b\b\b\b\b\b\b\b\b\b\b\b\b\b\b\b\b\b\b\b\b\b\b\b\b\b\b\b\b\b\b\b\b\b\b\b\b\b\b\b\b\b\b\b\b\b\r25/25 [==============================] - 0s 5ms/step - loss: 0.6835 - accuracy: 0.5688 - val_loss: 0.6982 - val_accuracy: 0.4650\n",
            "Epoch 4/10\n",
            "25/25 [==============================] - 0s 4ms/step - loss: 0.6807 - accuracy: 0.5825 - val_loss: 0.7022 - val_accuracy: 0.4650\n",
            "Epoch 5/10\n",
            "25/25 [==============================] - 0s 5ms/step - loss: 0.6763 - accuracy: 0.5838 - val_loss: 0.7055 - val_accuracy: 0.4550\n",
            "Epoch 6/10\n",
            "25/25 [==============================] - 0s 5ms/step - loss: 0.6747 - accuracy: 0.5888 - val_loss: 0.7105 - val_accuracy: 0.4850\n",
            "Epoch 7/10\n",
            "25/25 [==============================] - 0s 5ms/step - loss: 0.6723 - accuracy: 0.5913 - val_loss: 0.7119 - val_accuracy: 0.4850\n",
            "Epoch 8/10\n",
            "25/25 [==============================] - 0s 7ms/step - loss: 0.6712 - accuracy: 0.5925 - val_loss: 0.7135 - val_accuracy: 0.4650\n",
            "Epoch 9/10\n",
            "25/25 [==============================] - 0s 6ms/step - loss: 0.6698 - accuracy: 0.5875 - val_loss: 0.7164 - val_accuracy: 0.4750\n",
            "Epoch 10/10\n",
            "25/25 [==============================] - 0s 8ms/step - loss: 0.6671 - accuracy: 0.6125 - val_loss: 0.7165 - val_accuracy: 0.4700\n"
          ]
        },
        {
          "output_type": "execute_result",
          "data": {
            "text/plain": [
              "<keras.src.callbacks.History at 0x7a78d048b8e0>"
            ]
          },
          "metadata": {},
          "execution_count": 1
        }
      ],
      "source": [
        "import tensorflow as tf\n",
        "from tensorflow.keras.models import Sequential\n",
        "from tensorflow.keras.layers import Dense\n",
        "from tensorflow.keras.callbacks import ModelCheckpoint\n",
        "\n",
        "# Define a simple model\n",
        "model = Sequential([\n",
        "    Dense(64, activation='relu', input_shape=(10,)),\n",
        "    Dense(64, activation='relu'),\n",
        "    Dense(1, activation='sigmoid')\n",
        "])\n",
        "\n",
        "# Compile the model\n",
        "model.compile(optimizer='adam', loss='binary_crossentropy', metrics=['accuracy'])\n",
        "\n",
        "# Example dataset (replace this with your actual data)\n",
        "import numpy as np\n",
        "x_train = np.random.random((1000, 10))\n",
        "y_train = np.random.randint(2, size=(1000, 1))\n",
        "\n",
        "# Create a ModelCheckpoint callback\n",
        "# The callback will save the model weights whenever the validation accuracy improves\n",
        "checkpoint_callback = ModelCheckpoint(filepath='best_model.h5',\n",
        "                                      monitor='val_accuracy',\n",
        "                                      save_best_only=True)\n",
        "\n",
        "# Train the model with the callback\n",
        "model.fit(x_train, y_train, epochs=10, validation_split=0.2, callbacks=[checkpoint_callback])\n"
      ]
    }
  ]
}