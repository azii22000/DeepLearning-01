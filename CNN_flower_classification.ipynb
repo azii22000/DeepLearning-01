{
  "nbformat": 4,
  "nbformat_minor": 0,
  "metadata": {
    "colab": {
      "provenance": [],
      "gpuType": "T4",
      "authorship_tag": "ABX9TyOJIPPkfUvQfYRPD+Q6YcKN",
      "include_colab_link": true
    },
    "kernelspec": {
      "name": "python3",
      "display_name": "Python 3"
    },
    "language_info": {
      "name": "python"
    },
    "accelerator": "GPU"
  },
  "cells": [
    {
      "cell_type": "markdown",
      "metadata": {
        "id": "view-in-github",
        "colab_type": "text"
      },
      "source": [
        "<a href=\"https://colab.research.google.com/github/azii22000/DeepLearning-01/blob/main/CNN_flower_classification.ipynb\" target=\"_parent\"><img src=\"https://colab.research.google.com/assets/colab-badge.svg\" alt=\"Open In Colab\"/></a>"
      ]
    },
    {
      "cell_type": "code",
      "source": [
        "import tensorflow as tf\n",
        "from tensorflow.keras import layers, models\n",
        "from tensorflow.keras.preprocessing.image import ImageDataGenerator\n",
        "from tensorflow.keras.applications.vgg16 import preprocess_input\n",
        "from tensorflow.keras.applications import VGG16\n",
        "import os\n",
        "import shutil"
      ],
      "metadata": {
        "id": "KdWBi9TPigcN"
      },
      "execution_count": 2,
      "outputs": []
    },
    {
      "cell_type": "code",
      "execution_count": 3,
      "metadata": {
        "colab": {
          "base_uri": "https://localhost:8080/"
        },
        "id": "9x7EC2fWiYa_",
        "outputId": "6c9ce53d-39b4-42a6-ef7f-57ef47dfc549"
      },
      "outputs": [
        {
          "output_type": "stream",
          "name": "stdout",
          "text": [
            "Downloading data from https://storage.googleapis.com/download.tensorflow.org/example_images/flower_photos.tgz\n",
            "228813984/228813984 [==============================] - 2s 0us/step\n"
          ]
        }
      ],
      "source": [
        "flowers_root = tf.keras.utils.get_file(\n",
        "    'flower_photos',\n",
        "    'https://storage.googleapis.com/download.tensorflow.org/example_images/flower_photos.tgz',\n",
        "    untar=True)"
      ]
    },
    {
      "cell_type": "code",
      "source": [
        "from google.colab import drive\n",
        "drive.mount('/content/gdrive')"
      ],
      "metadata": {
        "colab": {
          "base_uri": "https://localhost:8080/"
        },
        "id": "0PWDtHeHkYuo",
        "outputId": "f3226e09-5d09-4cb5-a5de-9c7edcfbc8db"
      },
      "execution_count": 4,
      "outputs": [
        {
          "output_type": "stream",
          "name": "stdout",
          "text": [
            "Mounted at /content/gdrive\n"
          ]
        }
      ]
    },
    {
      "cell_type": "code",
      "source": [
        "#paths\n",
        "train_dir = \"/content/gdrive/My Drive/train_dataset\"\n",
        "test_dir = \"/content/gdrive/My Drive/test_dataset\"\n",
        "os.makedirs(train_dir, exist_ok=True)\n",
        "os.makedirs(test_dir, exist_ok=True)"
      ],
      "metadata": {
        "id": "9HiIDF2Oiuq8"
      },
      "execution_count": 5,
      "outputs": []
    },
    {
      "cell_type": "code",
      "source": [
        "shutil.move(os.path.join(flowers_root, 'daisy'), os.path.join(train_dir, 'daisy'))\n",
        "shutil.move(os.path.join(flowers_root, 'dandelion'), os.path.join(train_dir, 'dandelion'))\n",
        "\n",
        "shutil.move(os.path.join(flowers_root, 'roses'), os.path.join(test_dir, 'roses'))\n",
        "shutil.move(os.path.join(flowers_root, 'sunflowers'), os.path.join(test_dir, 'sunflowers'))"
      ],
      "metadata": {
        "colab": {
          "base_uri": "https://localhost:8080/",
          "height": 35
        },
        "id": "2J6CT3kkmTE_",
        "outputId": "32ba08e2-c0c2-44b8-cb99-b56053a33b6f"
      },
      "execution_count": 6,
      "outputs": [
        {
          "output_type": "execute_result",
          "data": {
            "text/plain": [
              "'/content/gdrive/My Drive/test_dataset/sunflowers/sunflowers'"
            ],
            "application/vnd.google.colaboratory.intrinsic+json": {
              "type": "string"
            }
          },
          "metadata": {},
          "execution_count": 6
        }
      ]
    },
    {
      "cell_type": "code",
      "source": [
        "img_height, img_width = 224, 224\n",
        "input_shape = (img_height, img_width, 3)"
      ],
      "metadata": {
        "id": "WExswnari5wt"
      },
      "execution_count": 19,
      "outputs": []
    },
    {
      "cell_type": "code",
      "source": [
        "batch_size = 16\n",
        "epochs = 5\n",
        "base_model = VGG16(weights='imagenet', include_top=False, input_shape=input_shape)\n"
      ],
      "metadata": {
        "id": "PjKiNy-Zi898"
      },
      "execution_count": 20,
      "outputs": []
    },
    {
      "cell_type": "code",
      "source": [
        "for layer in base_model.layers:\n",
        "    layer.trainable = False\n"
      ],
      "metadata": {
        "id": "suTFxVpwjINK"
      },
      "execution_count": 21,
      "outputs": []
    },
    {
      "cell_type": "code",
      "source": [
        "model = models.Sequential()\n",
        "model.add(base_model)\n",
        "model.add(layers.Flatten())\n",
        "model.add(layers.Dense(64, activation='relu'))\n",
        "model.add(layers.Dropout(0.5))\n",
        "model.add(layers.Dense(2, activation='softmax'))"
      ],
      "metadata": {
        "id": "I7VGfmsAjJo3"
      },
      "execution_count": 26,
      "outputs": []
    },
    {
      "cell_type": "code",
      "source": [
        "model.compile(optimizer='adam', loss='categorical_crossentropy', metrics=['accuracy'])"
      ],
      "metadata": {
        "id": "mOm9rjCnjjTO"
      },
      "execution_count": 27,
      "outputs": []
    },
    {
      "cell_type": "code",
      "source": [
        "train_datagen = ImageDataGenerator(\n",
        "    rescale=1./255,\n",
        "    shear_range=0.2,\n",
        "    zoom_range=0.2,\n",
        "    horizontal_flip=True\n",
        ")\n",
        "\n",
        "test_datagen = ImageDataGenerator(rescale=1./255)\n",
        "\n",
        "train_generator = train_datagen.flow_from_directory(\n",
        "    train_dir,\n",
        "    target_size=(img_height, img_width),\n",
        "    batch_size=batch_size,\n",
        "    class_mode='categorical'\n",
        ")\n",
        "\n",
        "test_generator = test_datagen.flow_from_directory(\n",
        "    test_dir,\n",
        "    target_size=(img_height, img_width),\n",
        "    batch_size=batch_size,\n",
        "    class_mode='categorical'\n",
        ")\n"
      ],
      "metadata": {
        "colab": {
          "base_uri": "https://localhost:8080/"
        },
        "id": "oPp9D-t9jkZW",
        "outputId": "c0e0864c-e0bd-4b83-b45b-9f8958d8e495"
      },
      "execution_count": 28,
      "outputs": [
        {
          "output_type": "stream",
          "name": "stdout",
          "text": [
            "Found 2926 images belonging to 2 classes.\n",
            "Found 1363 images belonging to 2 classes.\n"
          ]
        }
      ]
    },
    {
      "cell_type": "code",
      "source": [
        "model.fit(\n",
        "    train_generator,\n",
        "    steps_per_epoch=train_generator.samples // batch_size,\n",
        "    epochs=epochs,\n",
        "    validation_data=test_generator,\n",
        "    validation_steps=test_generator.samples // batch_size\n",
        ")"
      ],
      "metadata": {
        "colab": {
          "base_uri": "https://localhost:8080/"
        },
        "id": "HVssWvBwjw8p",
        "outputId": "a5b103c4-4262-4b99-a1bf-289ff3cc59ed"
      },
      "execution_count": 29,
      "outputs": [
        {
          "output_type": "stream",
          "name": "stdout",
          "text": [
            "Epoch 1/5\n",
            "182/182 [==============================] - 75s 380ms/step - loss: 0.4752 - accuracy: 0.8127 - val_loss: 0.8142 - val_accuracy: 0.5743\n",
            "Epoch 2/5\n",
            "182/182 [==============================] - 61s 336ms/step - loss: 0.2857 - accuracy: 0.8756 - val_loss: 0.7804 - val_accuracy: 0.5816\n",
            "Epoch 3/5\n",
            "182/182 [==============================] - 59s 324ms/step - loss: 0.2703 - accuracy: 0.8777 - val_loss: 1.1973 - val_accuracy: 0.5743\n",
            "Epoch 4/5\n",
            "182/182 [==============================] - 59s 326ms/step - loss: 0.2205 - accuracy: 0.8993 - val_loss: 1.2088 - val_accuracy: 0.5537\n",
            "Epoch 5/5\n",
            "182/182 [==============================] - 59s 325ms/step - loss: 0.2167 - accuracy: 0.8911 - val_loss: 1.3107 - val_accuracy: 0.5846\n"
          ]
        },
        {
          "output_type": "execute_result",
          "data": {
            "text/plain": [
              "<keras.src.callbacks.History at 0x7b98cc404340>"
            ]
          },
          "metadata": {},
          "execution_count": 29
        }
      ]
    }
  ]
}